{
  "nbformat": 4,
  "nbformat_minor": 0,
  "metadata": {
    "accelerator": "GPU",
    "colab": {
      "name": "C4_W2_Assignment.ipynb",
      "provenance": [],
      "collapsed_sections": [],
      "toc_visible": true,
      "include_colab_link": true
    },
    "kernelspec": {
      "display_name": "Python 3",
      "language": "python",
      "name": "python3"
    },
    "language_info": {
      "codemirror_mode": {
        "name": "ipython",
        "version": 3
      },
      "file_extension": ".py",
      "mimetype": "text/x-python",
      "name": "python",
      "nbconvert_exporter": "python",
      "pygments_lexer": "ipython3",
      "version": "3.8.5"
    }
  },
  "cells": [
    {
      "cell_type": "markdown",
      "metadata": {
        "id": "view-in-github",
        "colab_type": "text"
      },
      "source": [
        "<a href=\"https://colab.research.google.com/github/https-deeplearning-ai/tensorflow-2-public/blob/adding_C4/C4/W2/assignment/C4_W2_Assignment.ipynb\" target=\"_parent\"><img src=\"https://colab.research.google.com/assets/colab-badge.svg\" alt=\"Open In Colab\"/></a>"
      ]
    },
    {
      "cell_type": "code",
      "metadata": {
        "id": "zX4Kg8DUTKWO"
      },
      "source": [
        "#@title Licensed under the Apache License, Version 2.0 (the \"License\");\n",
        "# you may not use this file except in compliance with the License.\n",
        "# You may obtain a copy of the License at\n",
        "#\n",
        "# https://www.apache.org/licenses/LICENSE-2.0\n",
        "#\n",
        "# Unless required by applicable law or agreed to in writing, software\n",
        "# distributed under the License is distributed on an \"AS IS\" BASIS,\n",
        "# WITHOUT WARRANTIES OR CONDITIONS OF ANY KIND, either express or implied.\n",
        "# See the License for the specific language governing permissions and\n",
        "# limitations under the License."
      ],
      "execution_count": null,
      "outputs": []
    },
    {
      "cell_type": "markdown",
      "metadata": {
        "id": "ALCxPdSdX3NU"
      },
      "source": [
        "# Exporting an MNIST Classifier in SavedModel Format\n",
        "\n",
        "In this exercise, we will learn on how to create models for TensorFlow Hub. You will be tasked with performing the following tasks:\n",
        "\n",
        "*   Creating a simple MNIST classifier and evaluating its accuracy.\n",
        "*   Exporting it into SavedModel.\n",
        "*   Hosting the model as TF Hub Module.\n",
        "*   Importing this TF Hub Module to be used with Keras Layers."
      ]
    },
    {
      "cell_type": "code",
      "metadata": {
        "id": "zk2DJVcpKG1B"
      },
      "source": [
        "try:\n",
        "    %tensorflow_version 2.x\n",
        "except:\n",
        "    pass"
      ],
      "execution_count": null,
      "outputs": []
    },
    {
      "cell_type": "code",
      "metadata": {
        "id": "swaA66rjiRTd"
      },
      "source": [
        "import numpy as np\n",
        "import tensorflow as tf\n",
        "import tensorflow_hub as hub\n",
        "import tensorflow_datasets as tfds\n",
        "tfds.disable_progress_bar()\n",
        "\n",
        "print(\"\\u2022 Using TensorFlow Version:\", tf.__version__)"
      ],
      "execution_count": null,
      "outputs": []
    },
    {
      "cell_type": "markdown",
      "metadata": {
        "id": "UMZdLgyN7gby"
      },
      "source": [
        "## Create an MNIST Classifier\n",
        "\n",
        "We will start by creating a class called `MNIST`. This class will load the MNIST dataset, preprocess the images from the dataset, and build a CNN based classifier. This class will also have some methods to train, test, and save our model. \n",
        "\n",
        "In the cell below, fill in the missing code and create the following Keras `Sequential` model:\n",
        "\n",
        "```\n",
        "    Model: \"sequential\"\n",
        "    _________________________________________________________________\n",
        "    Layer (type)                 Output Shape              Param #   \n",
        "    =================================================================\n",
        "    lambda (Lambda)              (None, 28, 28, 1)         0         \n",
        "    _________________________________________________________________\n",
        "    conv2d (Conv2D)              (None, 28, 28, 8)         80        \n",
        "    _________________________________________________________________\n",
        "    max_pooling2d (MaxPooling2D) (None, 14, 14, 8)         0         \n",
        "    _________________________________________________________________\n",
        "    conv2d_1 (Conv2D)            (None, 14, 14, 16)        1168      \n",
        "    _________________________________________________________________\n",
        "    max_pooling2d_1 (MaxPooling2 (None, 7, 7, 16)          0         \n",
        "    _________________________________________________________________\n",
        "    conv2d_2 (Conv2D)            (None, 7, 7, 32)          4640      \n",
        "    _________________________________________________________________\n",
        "    flatten (Flatten)            (None, 1568)              0         \n",
        "    _________________________________________________________________\n",
        "    dense (Dense)                (None, 128)               200832    \n",
        "    _________________________________________________________________\n",
        "    dense_1 (Dense)              (None, 10)                1290      \n",
        "    =================================================================\n",
        "\n",
        "```\n",
        "\n",
        "Notice that we are using a ` tf.keras.layers.Lambda` layer at the beginning of our model. `Lambda` layers are used to wrap arbitrary expressions as a `Layer` object:\n",
        "\n",
        "```python\n",
        "tf.keras.layers.Lambda(expression)\n",
        "```\n",
        "\n",
        "The `Lambda` layer exists so that arbitrary TensorFlow functions can be used when constructing `Sequential` and Functional API models. `Lambda` layers are best suited for simple operations. "
      ]
    },
    {
      "cell_type": "code",
      "metadata": {
        "id": "qqWZVcdsKG1F"
      },
      "source": [
        "class MNIST:\n",
        "    def __init__(self, export_path, buffer_size=1000, batch_size=32,\n",
        "                 learning_rate=1e-3, epochs=10):\n",
        "        self._export_path = export_path\n",
        "        self._buffer_size = buffer_size\n",
        "        self._batch_size = batch_size\n",
        "        self._learning_rate = learning_rate\n",
        "        self._epochs = epochs\n",
        "    \n",
        "        self._build_model()\n",
        "        self.train_dataset, self.test_dataset = self._prepare_dataset()\n",
        "    \n",
        "    # Function to preprocess the images.\n",
        "    def preprocess_fn(self, x):\n",
        "        \n",
        "        # EXERCISE: Cast x to tf.float32 using the tf.cast() function.\n",
        "        # You should also normalize the values of x to be in the range [0, 1].\n",
        "        x = # YOUR CODE HERE\n",
        "            \n",
        "        return x\n",
        "        \n",
        "    def _build_model(self):\n",
        "        \n",
        "        # EXERCISE: Build the model according to the model summary shown above.\n",
        "        self._model = tf.keras.models.Sequential([\n",
        "            tf.keras.layers.Input(shape=(28, 28, 1), dtype=tf.uint8),\n",
        "            \n",
        "            # Use a Lambda layer to use the self.preprocess_fn function\n",
        "            # defined above to preprocess the images.\n",
        "            # YOUR CODE HERE\n",
        "            \n",
        "            # Create a Conv2D layer with 8 filters, a kernel size of 3\n",
        "            # and padding='same'.\n",
        "            # YOUR CODE HERE\n",
        "            \n",
        "            # Create a MaxPool2D() layer. Use default values.\n",
        "            # YOUR CODE HERE\n",
        "            \n",
        "            # Create a Conv2D layer with 16 filters, a kernel size of 3\n",
        "            # and padding='same'.\n",
        "            # YOUR CODE HERE\n",
        "            \n",
        "            # Create a MaxPool2D() layer. Use default values.\n",
        "            # YOUR CODE HERE\n",
        "            \n",
        "            # Create a Conv2D layer with 32 filters, a kernel size of 3\n",
        "            # and padding='same'.\n",
        "            # YOUR CODE HERE\n",
        "            \n",
        "            # Create the Flatten and Dense layers as described in the \n",
        "            # model summary shown above.\n",
        "            # YOUR CODE HERE\n",
        "        ])\n",
        "        \n",
        "        # EXERCISE: Define the optimizer, loss function and metrics.\n",
        "        \n",
        "        # Use the tf.keras.optimizers.Adam optimizer and set the\n",
        "        # learning rate to self._learning_rate.\n",
        "        optimizer_fn = # YOUR CODE HERE\n",
        "        \n",
        "        # Use sparse_categorical_crossentropy as your loss function.\n",
        "        loss_fn = # YOUR CODE HERE\n",
        "        \n",
        "        # Set the metrics to accuracy.\n",
        "        metrics_list = # YOUR CODE HERE\n",
        "     \n",
        "        # Compile the model.\n",
        "        self._model.compile(optimizer_fn, loss=loss_fn, metrics=metrics_list)\n",
        "        \n",
        "    def _prepare_dataset(self):\n",
        "        \n",
        "        # EXERCISE: Load the MNIST dataset using tfds.load(). You should\n",
        "        # load the images as well as their corresponding labels and\n",
        "        # load both the test and train splits.\n",
        "        dataset = # YOUR CODE HERE\n",
        "        \n",
        "        # EXERCISE: Extract the 'train' and 'test' splits from the dataset above.\n",
        "        train_dataset, test_dataset = # YOUR CODE HERE\n",
        "        \n",
        "        return train_dataset, test_dataset\n",
        "    \n",
        "    def train(self):\n",
        "        \n",
        "        # EXERCISE: Shuffle and batch the self.train_dataset. Use self._buffer_size\n",
        "        # as the shuffling buffer and self._batch_size as the batch size for batching. \n",
        "        dataset_tr = # YOUR CODE HERE\n",
        "        \n",
        "        # Train the model for specified number of epochs.\n",
        "        self._model.fit(dataset_tr, epochs=self._epochs)\n",
        "        \n",
        "    def test(self):\n",
        "        \n",
        "        # EXERCISE: Batch the self.test_dataset. Use a batch size of 32.\n",
        "        dataset_te = # YOUR CODE HERE\n",
        "        \n",
        "        # Evaluate the dataset\n",
        "        results = self._model.evaluate(dataset_te)\n",
        "    \n",
        "        # Print the metric values on which the model is being evaluated on.\n",
        "        for name, value in zip(self._model.metrics_names, results):\n",
        "            print(\"%s: %.3f\" % (name, value))\n",
        "            \n",
        "    def export_model(self):\n",
        "        # Save the model.\n",
        "        tf.saved_model.save(self._model, self._export_path)"
      ],
      "execution_count": null,
      "outputs": []
    },
    {
      "cell_type": "markdown",
      "metadata": {
        "id": "-dDAjgDe7lp4"
      },
      "source": [
        "## Train, Evaluate, and Save the Model\n",
        "\n",
        "We will now use the `MNIST` class we created above to create an `mnist` object. When creating our `mnist` object we will use a dictionary to pass our training parameters. We will then call the `train` and `export_model` methods to train and save our model, respectively. Finally, we call the `test` method to evaluate our model after training. \n",
        "\n",
        "**NOTE:** It will take about 12 minutes to train the model for 5 epochs."
      ]
    },
    {
      "cell_type": "code",
      "metadata": {
        "id": "w6Ba6ileois3"
      },
      "source": [
        "# Define the training parameters.\n",
        "args = {'export_path': './saved_model',\n",
        "        'buffer_size': 1000,\n",
        "        'batch_size': 32,\n",
        "        'learning_rate': 1e-3,\n",
        "        'epochs': 5\n",
        "}\n",
        "\n",
        "# Create the mnist object. \n",
        "mnist = MNIST(**args)\n",
        "\n",
        "# Train the model.\n",
        "mnist.train()\n",
        "\n",
        "# Save the model.\n",
        "mnist.export_model()\n",
        "\n",
        "# Evaluate the trained MNIST model.\n",
        "mnist.test()"
      ],
      "execution_count": null,
      "outputs": []
    },
    {
      "cell_type": "markdown",
      "metadata": {
        "id": "sotJ7pQm7umV"
      },
      "source": [
        "## Create a Tarball\n",
        "\n",
        "The `export_model` method saved our model in the TensorFlow SavedModel format in the `./saved_model` directory. The SavedModel format saves our model and its weights in various files and directories. This makes it difficult to distribute our model. Therefore, it is convenient to create a single compressed file that contains all the files and folders of our model. To do this, we will use the `tar` archiving program to create a tarball (similar to a Zip file) that contains our SavedModel."
      ]
    },
    {
      "cell_type": "code",
      "metadata": {
        "id": "_6pIk6baKG1J"
      },
      "source": [
        "# Create a tarball from the SavedModel.\n",
        "!tar -cz -f module.tar.gz -C ./saved_model ."
      ],
      "execution_count": null,
      "outputs": []
    },
    {
      "cell_type": "markdown",
      "metadata": {
        "id": "XhTfU_qVKG1K"
      },
      "source": [
        "## Inspect the Tarball\n",
        "\n",
        "We can uncompress our tarball to make sure it has all the files and folders from our SavedModel."
      ]
    },
    {
      "cell_type": "code",
      "metadata": {
        "id": "NknIrjE1ovkF"
      },
      "source": [
        "# Inspect the tarball.\n",
        "!tar -tf module.tar.gz"
      ],
      "execution_count": null,
      "outputs": []
    },
    {
      "cell_type": "markdown",
      "metadata": {
        "id": "n8LjCeO474N4"
      },
      "source": [
        "## Simulate Server Conditions\n",
        "\n",
        "Once we have verified our tarball, we can now simulate server conditions. In a normal scenario, we will fetch our TF Hub module from a remote server using the module's handle. However, since this notebook cannot host the server, we will instead point the module handle to the directory where our SavedModel is stored. "
      ]
    },
    {
      "cell_type": "code",
      "metadata": {
        "id": "C-8vmmtVxJVF"
      },
      "source": [
        "!rm -rf ./module\n",
        "!mkdir -p module\n",
        "!tar xvzf module.tar.gz -C ./module"
      ],
      "execution_count": null,
      "outputs": []
    },
    {
      "cell_type": "code",
      "metadata": {
        "id": "TSmU1oZgxJZS"
      },
      "source": [
        "# Define the module handle.\n",
        "MODULE_HANDLE = './module'"
      ],
      "execution_count": null,
      "outputs": []
    },
    {
      "cell_type": "markdown",
      "metadata": {
        "id": "39GW5X6cKG1P"
      },
      "source": [
        "## Load the TF Hub Module"
      ]
    },
    {
      "cell_type": "code",
      "metadata": {
        "id": "b2lOfoKab5Rv"
      },
      "source": [
        "# EXERCISE: Load the TF Hub module using the hub.load API.\n",
        "model = # YOUR CODE HERE"
      ],
      "execution_count": null,
      "outputs": []
    },
    {
      "cell_type": "markdown",
      "metadata": {
        "id": "FiOE1NIzKG1Q"
      },
      "source": [
        "## Test the TF Hub Module\n",
        "\n",
        "We will now test our TF Hub module with images from the `test` split of the MNIST dataset."
      ]
    },
    {
      "cell_type": "code",
      "metadata": {
        "id": "dCmeWVj_ovno"
      },
      "source": [
        "# EXERCISE: Load the MNIST 'test' split using tfds.load(). You\n",
        "# should load the images along with their corresponding labels.\n",
        "\n",
        "dataset = # YOUR CODE HERE\n",
        "\n",
        "# EXERCISE: Batch the dataset using a batch size of 32.\n",
        "test_dataset = # YOUR CODE HERE"
      ],
      "execution_count": null,
      "outputs": []
    },
    {
      "cell_type": "code",
      "metadata": {
        "id": "wY9bVLTayn3H"
      },
      "source": [
        "# Test the TF Hub module for a single batch of data\n",
        "for batch_data in test_dataset.take(1):\n",
        "    outputs = model(batch_data[0])\n",
        "    outputs = np.argmax(outputs, axis=-1)\n",
        "    print('Predicted Labels:', outputs)\n",
        "    print('True Labels:     ', batch_data[1].numpy())"
      ],
      "execution_count": null,
      "outputs": []
    },
    {
      "cell_type": "markdown",
      "metadata": {
        "id": "KamD7rkiKG1R"
      },
      "source": [
        "We can see that the model correctly predicts the labels for most images in the batch. "
      ]
    },
    {
      "cell_type": "markdown",
      "metadata": {
        "id": "ciRPFhPg8FWH"
      },
      "source": [
        "## Evaluate the Model Using Keras\n",
        "\n",
        "In the cell below, you will integrate the TensorFlow Hub module into the high level Keras API."
      ]
    },
    {
      "cell_type": "code",
      "metadata": {
        "id": "YMjnPFOjxmus"
      },
      "source": [
        "# EXERCISE: Integrate the TensorFlow Hub module into a Keras\n",
        "# sequential model. You should use a hub.KerasLayer and you \n",
        "# should make sure to use the correct values for the output_shape,\n",
        "# and input_shape parameters. You should also use tf.uint8 for\n",
        "# the dtype parameter.\n",
        "\n",
        "model = # YOUR CODE HERE\n",
        "\n",
        "# Compile the model.\n",
        "model.compile(optimizer='adam',\n",
        "              loss='sparse_categorical_crossentropy', \n",
        "              metrics=['accuracy'])"
      ],
      "execution_count": null,
      "outputs": []
    },
    {
      "cell_type": "code",
      "metadata": {
        "id": "ShGHxh0Wx7lW"
      },
      "source": [
        "# Evaluate the model on the test_dataset.\n",
        "results = model.evaluate(test_dataset)"
      ],
      "execution_count": null,
      "outputs": []
    },
    {
      "cell_type": "code",
      "metadata": {
        "id": "wZ6jUqbDx7s4"
      },
      "source": [
        "# Print the metric values on which the model is being evaluated on.\n",
        "for name, value in zip(model.metrics_names, results):\n",
        "    print(\"%s: %.3f\" % (name, value))"
      ],
      "execution_count": null,
      "outputs": []
    }
  ]
}