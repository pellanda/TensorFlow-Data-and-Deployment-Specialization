{
  "nbformat": 4,
  "nbformat_minor": 0,
  "metadata": {
    "accelerator": "GPU",
    "colab": {
      "name": "C4_W2_Lab_1_tfhub_basic_examples.ipynb",
      "provenance": [],
      "collapsed_sections": [],
      "toc_visible": true,
      "include_colab_link": true
    },
    "kernelspec": {
      "display_name": "Python 3",
      "language": "python",
      "name": "python3"
    },
    "language_info": {
      "codemirror_mode": {
        "name": "ipython",
        "version": 3
      },
      "file_extension": ".py",
      "mimetype": "text/x-python",
      "name": "python",
      "nbconvert_exporter": "python",
      "pygments_lexer": "ipython3",
      "version": "3.8.5"
    }
  },
  "cells": [
    {
      "cell_type": "markdown",
      "metadata": {
        "id": "view-in-github",
        "colab_type": "text"
      },
      "source": [
        "<a href=\"https://colab.research.google.com/github/https-deeplearning-ai/tensorflow-2-public/blob/adding_C4/C4/W2/ungraded_labs/C4_W2_Lab_1_tfhub_basic_examples.ipynb\" target=\"_parent\"><img src=\"https://colab.research.google.com/assets/colab-badge.svg\" alt=\"Open In Colab\"/></a>"
      ]
    },
    {
      "cell_type": "code",
      "metadata": {
        "id": "zX4Kg8DUTKWO"
      },
      "source": [
        "#@title Licensed under the Apache License, Version 2.0 (the \"License\");\n",
        "# you may not use this file except in compliance with the License.\n",
        "# You may obtain a copy of the License at\n",
        "#\n",
        "# https://www.apache.org/licenses/LICENSE-2.0\n",
        "#\n",
        "# Unless required by applicable law or agreed to in writing, software\n",
        "# distributed under the License is distributed on an \"AS IS\" BASIS,\n",
        "# WITHOUT WARRANTIES OR CONDITIONS OF ANY KIND, either express or implied.\n",
        "# See the License for the specific language governing permissions and\n",
        "# limitations under the License."
      ],
      "execution_count": null,
      "outputs": []
    },
    {
      "cell_type": "markdown",
      "metadata": {
        "id": "HKpNHJUklgmV"
      },
      "source": [
        "##### Copyright 2019 The TensorFlow Authors."
      ]
    },
    {
      "cell_type": "code",
      "metadata": {
        "cellView": "form",
        "id": "rVYfUz6plf-E"
      },
      "source": [
        "#@title Licensed under the Apache License, Version 2.0 (the \"License\");\n",
        "# you may not use this file except in compliance with the License.\n",
        "# You may obtain a copy of the License at\n",
        "#\n",
        "# https://www.apache.org/licenses/LICENSE-2.0\n",
        "#\n",
        "# Unless required by applicable law or agreed to in writing, software\n",
        "# distributed under the License is distributed on an \"AS IS\" BASIS,\n",
        "# WITHOUT WARRANTIES OR CONDITIONS OF ANY KIND, either express or implied.\n",
        "# See the License for the specific language governing permissions and\n",
        "# limitations under the License."
      ],
      "execution_count": null,
      "outputs": []
    },
    {
      "cell_type": "markdown",
      "metadata": {
        "id": "z43VJvxa8HOX"
      },
      "source": [
        "# Getting Started with TensorFlow Hub\n",
        "\n",
        "[TensorFlow Hub](https://tfhub.dev/) is a repository of reusable TensorFlow machine learning modules. A module is a self-contained piece of a TensorFlow graph, along with its weights and assets, that can be reused across different tasks. These modules can be reused to solve new tasks with less training data, diminishing training time. \n",
        "\n",
        "In this notebook we will go over some basic examples to help you get started with TensorFlow Hub. In particular, we will cover the following topics:\n",
        "\n",
        "* Loading TensorFlow Hub Modules and Performing Inference.\n",
        "\n",
        "* Using TensorFlow Hub Modules with Keras.\n",
        "\n",
        "* Using Feature Vectors with Keras for Transfer Learning.\n",
        "\n",
        "* Saving and Running a TensorFlow Hub Module Locally.\n",
        "\n",
        "* Changing the Download Location of TensorFlow Hub Modules. "
      ]
    },
    {
      "cell_type": "markdown",
      "metadata": {
        "id": "pwT2KTfqf0TS"
      },
      "source": [
        "## Setup"
      ]
    },
    {
      "cell_type": "code",
      "metadata": {
        "id": "Ui_ybeBYf0TT"
      },
      "source": [
        "try:\n",
        "    %tensorflow_version 2.x\n",
        "except:\n",
        "    pass"
      ],
      "execution_count": null,
      "outputs": []
    },
    {
      "cell_type": "code",
      "metadata": {
        "id": "amAqIJk4W_i_"
      },
      "source": [
        "import os\n",
        "import numpy as np\n",
        "import matplotlib.pyplot as plt\n",
        "\n",
        "import tensorflow as tf\n",
        "import tensorflow_hub as hub\n",
        "\n",
        "from PIL import Image\n",
        "\n",
        "\n",
        "print(\"\\u2022 Using TensorFlow Version:\", tf.__version__)"
      ],
      "execution_count": null,
      "outputs": []
    },
    {
      "cell_type": "markdown",
      "metadata": {
        "id": "2fH5ftX6f0TZ"
      },
      "source": [
        "## Download Test Image\n",
        "\n",
        "We will download the image of a puppy to test our TensorFlow Hub modules."
      ]
    },
    {
      "cell_type": "code",
      "metadata": {
        "id": "wHcJrF0HYy5O"
      },
      "source": [
        "!wget -O dog.jpeg https://cdn.pixabay.com/photo/2016/12/13/05/15/puppy-1903313_960_720.jpg\n",
        "    \n",
        "original_image = Image.open('./dog.jpeg')"
      ],
      "execution_count": null,
      "outputs": []
    },
    {
      "cell_type": "markdown",
      "metadata": {
        "id": "1dfkh03u7KUe"
      },
      "source": [
        "Let's take a look at the image we just downloaded."
      ]
    },
    {
      "cell_type": "code",
      "metadata": {
        "id": "i2gkQ4OMf0Tc"
      },
      "source": [
        "plt.figure(figsize=(6,6))\n",
        "plt.imshow(original_image)\n",
        "plt.show()"
      ],
      "execution_count": null,
      "outputs": []
    },
    {
      "cell_type": "markdown",
      "metadata": {
        "id": "6cdyKGtJ7gvi"
      },
      "source": [
        "## Format Image\n",
        "\n",
        "We will now resize and normalize our image so that is compatible with the module we are going to use. In this notebook we will use the [MobileNet](https://tfhub.dev/google/tf2-preview/mobilenet_v2/classification/4) model which was trained in ImageNet. For this module, the input images are expected to have color values in the range `[0,1]` and to have an input size of `(224,224)`."
      ]
    },
    {
      "cell_type": "code",
      "metadata": {
        "id": "naIvQyXwf0Tf"
      },
      "source": [
        "IMAGE_SIZE = (224, 224)\n",
        "    \n",
        "img = original_image.resize(IMAGE_SIZE)\n",
        "img = np.array(img) / 255.0"
      ],
      "execution_count": null,
      "outputs": []
    },
    {
      "cell_type": "markdown",
      "metadata": {
        "id": "RVZGQmEu9tjK"
      },
      "source": [
        "Let's now plot the reformatted image, to see what it looks like."
      ]
    },
    {
      "cell_type": "code",
      "metadata": {
        "id": "h56vUl319rhe"
      },
      "source": [
        "plt.figure(figsize=(5,5))\n",
        "plt.imshow(img)\n",
        "plt.title('New Image Size: {}'.format(img.shape), fontdict={'size': 16}, color='green')\n",
        "plt.show()"
      ],
      "execution_count": null,
      "outputs": []
    },
    {
      "cell_type": "markdown",
      "metadata": {
        "id": "kywC4eUp8NHK"
      },
      "source": [
        "## Get ImageNet Labels\n",
        "\n",
        "We will now get the labels for all the 1001 classes in the ImageNet dataset."
      ]
    },
    {
      "cell_type": "code",
      "metadata": {
        "id": "vN41_3uFZed1"
      },
      "source": [
        "!wget -O labels.txt --quiet https://storage.googleapis.com/download.tensorflow.org/data/ImageNetLabels.txt\n",
        "\n",
        "with open('labels.txt', 'r') as f:\n",
        "    labels = [l.strip() for l in f.readlines()]\n",
        "\n",
        "# get number of labels\n",
        "num_classes = len(labels)\n",
        "\n",
        "print('There are a total of {0} labels representing {0} classes.\\n'.format(num_classes))"
      ],
      "execution_count": null,
      "outputs": []
    },
    {
      "cell_type": "markdown",
      "metadata": {
        "id": "z-xemFy9_hI2"
      },
      "source": [
        "Let's take a look at the first 5 labels. "
      ]
    },
    {
      "cell_type": "code",
      "metadata": {
        "id": "eKo1E_JFgUFM"
      },
      "source": [
        "for label in labels[0:5]:\n",
        "    print(label)"
      ],
      "execution_count": null,
      "outputs": []
    },
    {
      "cell_type": "markdown",
      "metadata": {
        "id": "b0f6ojXNf0Tk"
      },
      "source": [
        "## Loading a TensorFlow Hub Module\n",
        "\n",
        "To load a module, we use its unique **module handle**, which is just a URL string. To obtain the module handle, we have to browse through the catalog of modules in the [TensorFlow Hub](https://tfhub.dev/) website. \n",
        "\n",
        "For example, in this case, we will be using the complete **MobileNet** model. If we go to [MobileNet's webpage](https://tfhub.dev/google/tf2-preview/mobilenet_v2/classification/4) in the TensorFlow Hub website, we will see that the module handle for this module is:\n",
        "\n",
        "```\n",
        "'https://tfhub.dev/google/tf2-preview/mobilenet_v2/classification/4'\n",
        "```\n",
        "\n",
        "Finally, we'll make use of TensorFlow Hub's, `load` API to load the module into memory. "
      ]
    },
    {
      "cell_type": "code",
      "metadata": {
        "id": "IeECgRwvf0Tl"
      },
      "source": [
        "# if you are running the notebook on Colab\n",
        "MODULE_HANDLE = 'https://tfhub.dev/google/tf2-preview/mobilenet_v2/classification/4'\n",
        "\n",
        "# if you are running the notebook on your local machine\n",
        "# MODULE_HANDLE = './models/tf2-preview_mobilenet_v2_classification_4'\n",
        "\n",
        "module = hub.load(MODULE_HANDLE)"
      ],
      "execution_count": null,
      "outputs": []
    },
    {
      "cell_type": "markdown",
      "metadata": {
        "id": "7HXz7_Aqf0Tn"
      },
      "source": [
        "## Performing Inference\n",
        "\n",
        "Once we have loaded the module, we can then start running inference on it. Note however, that the module generates the final layer's logits without any activations. Therefore, we have to apply the `softmax` activation to the module's output. The result will be a Tensor of shape `(1, 1001)`, where the first dimension refers to the batch size. In this case it is just `1` because we only passed 1 image. \n",
        "\n",
        "In the cell below, we will pass the image of the puppy and get the top 5 predictions from our model along with their probability scores."
      ]
    },
    {
      "cell_type": "code",
      "metadata": {
        "id": "iviLKe3sYmvu"
      },
      "source": [
        "predictions = tf.nn.softmax(module([img]))[0]\n",
        "\n",
        "top_k_pred_values, top_k_indices = tf.math.top_k(predictions, k=5)\n",
        "\n",
        "top_k_pred_values = top_k_pred_values.numpy()\n",
        "top_k_indices = top_k_indices.numpy()\n",
        "\n",
        "for value, i in zip(top_k_pred_values, top_k_indices):\n",
        "    print('{}: {:.3}'.format(labels[i], value))"
      ],
      "execution_count": null,
      "outputs": []
    },
    {
      "cell_type": "markdown",
      "metadata": {
        "id": "BpCrUAhM8Sa-"
      },
      "source": [
        "## Using a TensorFlow Hub Module with Keras\n",
        "\n",
        "We can also integrate TensorFlow Hub modules into the high level Keras API. In this case, we make use of the `hub.KerasLayer` API to load it. We can add the `hub.KerasLayer` to a Keras `sequential` model along with an activation layer. Once the model is built, all the Keras model methods can be accessed like you would normally do in Keras."
      ]
    },
    {
      "cell_type": "code",
      "metadata": {
        "id": "UJ8gqfwVf0Tr"
      },
      "source": [
        "model = tf.keras.Sequential([\n",
        "        hub.KerasLayer(MODULE_HANDLE,\n",
        "                       input_shape=IMAGE_SIZE + (3,)),\n",
        "        tf.keras.layers.Activation('softmax')\n",
        "])"
      ],
      "execution_count": null,
      "outputs": []
    },
    {
      "cell_type": "markdown",
      "metadata": {
        "id": "V7etoiGVf0Tt"
      },
      "source": [
        "## Performing Inference\n",
        "\n",
        "To perform inference with the Keras model, we have to add a dimension to our image to account for the batch size. Remember that our Keras model expects the input to have shape `(batch_size, image_size)`, where the `image_size` includes the number of color channels."
      ]
    },
    {
      "cell_type": "code",
      "metadata": {
        "id": "mstecPiRf0Tu"
      },
      "source": [
        "# Add batch dimension\n",
        "img_arr = np.expand_dims(img, axis=0)"
      ],
      "execution_count": null,
      "outputs": []
    },
    {
      "cell_type": "markdown",
      "metadata": {
        "id": "9lZY1656JAuY"
      },
      "source": [
        "As we did previously, in the cell below we will pass the image of the puppy and get the top 5 predictions from our Keras model along with their probability scores."
      ]
    },
    {
      "cell_type": "code",
      "metadata": {
        "id": "pLpZLpgXf0Tw"
      },
      "source": [
        "predictions = model.predict(img_arr)[0]\n",
        " \n",
        "top_k_pred_values, top_k_indices = tf.math.top_k(predictions, k=5)\n",
        "\n",
        "top_k_pred_values = top_k_pred_values.numpy()\n",
        "top_k_indices = top_k_indices.numpy()\n",
        "\n",
        "for value, i in zip(top_k_pred_values, top_k_indices):\n",
        "    print('{}: {:.3}'.format(labels[i], value))"
      ],
      "execution_count": null,
      "outputs": []
    },
    {
      "cell_type": "markdown",
      "metadata": {
        "id": "FihuPGEiUdh7"
      },
      "source": [
        "# Using Feature Vectors with Keras\n",
        "\n",
        "While we can use complete models as we did in the previous section, perhaps, the most important part of TensorFlow Hub is in how it provides **Feature Vectors** that allows us to take advantage of transfer learning. Feature vectors are just complete modules that had their final classification head removed.\n",
        "\n",
        "In the cell below we show an example of how a feature vector can be added to a Keras `sequential` model."
      ]
    },
    {
      "cell_type": "code",
      "metadata": {
        "id": "7bB4E3dnf0Tz"
      },
      "source": [
        "# if you are running the notebook on Colab\n",
        "MODULE_HANDLE = \"https://tfhub.dev/google/tf2-preview/mobilenet_v2/feature_vector/4\"\n",
        "\n",
        "# if you are running the notebook on your local machine\n",
        "# MODULE_HANDLE = \"./models/tf2-preview_mobilenet_v2_feature_vector_4\""
      ],
      "execution_count": null,
      "outputs": []
    },
    {
      "cell_type": "code",
      "metadata": {
        "id": "_B3xMxdeUjMp"
      },
      "source": [
        "# Number of classes in the new dataset\n",
        "NUM_CLASSES = 20\n",
        "\n",
        "model = tf.keras.Sequential([\n",
        "        hub.KerasLayer(MODULE_HANDLE,\n",
        "                       input_shape=IMAGE_SIZE + (3,)),\n",
        "        tf.keras.layers.Dense(NUM_CLASSES, activation='softmax')\n",
        "])"
      ],
      "execution_count": null,
      "outputs": []
    },
    {
      "cell_type": "markdown",
      "metadata": {
        "id": "9OTNyXHvf0T7"
      },
      "source": [
        "Now that the model is built, the next step in transfer learning will be to train the model on a new dataset with the new classifier (i.e. the last layer of the model). Remember that the number of output units in the last layer will correspond to the number of classes in your new dataset. After the model has been trained, we can perform inference in the same way as with any Keras model (see previous section)."
      ]
    },
    {
      "cell_type": "markdown",
      "metadata": {
        "id": "mLhxYyr-f0T8"
      },
      "source": [
        "# Saving a TensorFlow Hub Module for Local Use\n",
        "\n",
        "We can download TensorFlow Hub modules, by explicitly downloading the module as a **SavedModel** archived as a tarball. This is useful if we want to work with the module offline.\n",
        "\n",
        "To do this, we first have to download the Hub module by appending a query parameter to the module handled URL string. This is done by setting the TF Hub format query parameter as shown below. For now, only the compressed option is defined."
      ]
    },
    {
      "cell_type": "code",
      "metadata": {
        "id": "UlIKzuHQf0T-"
      },
      "source": [
        "# # skip running this code block if you are running the notebook on your local machine\n",
        "# # run it if you are running the notebook on Colab\n",
        "\n",
        "# MODULE_HANDLE = 'https://tfhub.dev/google/tf2-preview/mobilenet_v2/classification/4?tf-hub-format=compressed'\n",
        "# !wget -O ./saved_model.tar.gz $MODULE_HANDLE\n",
        "\n",
        "# # Untar the tarball\n",
        "# !mkdir -p ./saved_model\n",
        "# !tar xvzf ./saved_model.tar.gz -C ./saved_model"
      ],
      "execution_count": null,
      "outputs": []
    },
    {
      "cell_type": "markdown",
      "metadata": {
        "id": "GU1llWHpf0UA"
      },
      "source": [
        "# Running a TensorFlow Hub Module Locally\n",
        "\n",
        "We can load the SavedModel containing the saved TensorFlow Hub module by using `hub.load`."
      ]
    },
    {
      "cell_type": "code",
      "metadata": {
        "id": "3IH9-d6MpzGf"
      },
      "source": [
        "module = hub.load('./saved_model')"
      ],
      "execution_count": null,
      "outputs": []
    },
    {
      "cell_type": "markdown",
      "metadata": {
        "id": "sx6m8Gh4p2Wk"
      },
      "source": [
        "After the TensorFlow Hub module is loaded, we can start making inferences as shown below. As before, we will pass the image of the puppy and get the top 5 predictions from our model along with their probability scores."
      ]
    },
    {
      "cell_type": "code",
      "metadata": {
        "id": "7Udwudrof0UB"
      },
      "source": [
        "predictions = tf.nn.softmax(module([img]))[0]\n",
        "\n",
        "top_k_pred_values, top_k_indices = tf.math.top_k(predictions, k=5)\n",
        "\n",
        "top_k_pred_values = top_k_pred_values.numpy()\n",
        "top_k_indices = top_k_indices.numpy()\n",
        "\n",
        "for value, i in zip(top_k_pred_values, top_k_indices):\n",
        "    print('{}: {:.3}'.format(labels[i], value))"
      ],
      "execution_count": null,
      "outputs": []
    },
    {
      "cell_type": "markdown",
      "metadata": {
        "id": "Mc1A0-E-wrp5"
      },
      "source": [
        "## Changing the Download Location of TensorFlow Hub Modules. \n",
        "\n",
        "Finally, we can change the download location of TensorFlow Hub modules to a more permanent location. We can do this by setting the environment variable `'TFHUB_CACHE_DIR'` to the directory we want our modules to be saved in. \n",
        "\n",
        "In Python, we can set this environment variable in the environment dictionary that's present in the Pythons `os` module as you can see below. "
      ]
    },
    {
      "cell_type": "code",
      "metadata": {
        "id": "uD99XTD_o4u5"
      },
      "source": [
        "new_dir = './hub_cache_dir'\n",
        "\n",
        "os.environ['TFHUB_CACHE_DIR'] = new_dir"
      ],
      "execution_count": null,
      "outputs": []
    },
    {
      "cell_type": "markdown",
      "metadata": {
        "id": "nI7lMBOvq-TR"
      },
      "source": [
        "Once we set the new location of the TF Hub cache directory environment variable, all the subsequent modules that we request will get downloaded to that location. "
      ]
    },
    {
      "cell_type": "code",
      "metadata": {
        "id": "TXXl3HVQf0UF"
      },
      "source": [
        "MODULE_HANDLE = 'https://tfhub.dev/google/tf2-preview/mobilenet_v2/classification/4'\n",
        "module = hub.load(MODULE_HANDLE)"
      ],
      "execution_count": null,
      "outputs": []
    },
    {
      "cell_type": "markdown",
      "metadata": {
        "id": "anBLXShXtp79"
      },
      "source": [
        "We can take a look the contents of the new directory and all its subdirectories by using the `-R` option."
      ]
    },
    {
      "cell_type": "code",
      "metadata": {
        "id": "VW9djqDyrl3r"
      },
      "source": [
        "!ls -R {new_dir}"
      ],
      "execution_count": null,
      "outputs": []
    }
  ]
}