{
  "nbformat": 4,
  "nbformat_minor": 0,
  "metadata": {
    "accelerator": "GPU",
    "colab": {
      "name": "C3_W4_A1_Assignment.ipynb",
      "provenance": [],
      "collapsed_sections": [],
      "include_colab_link": true
    },
    "coursera": {
      "schema_names": [
        "tensorflow-datasets-w4"
      ]
    },
    "kernelspec": {
      "display_name": "Python 3",
      "language": "python",
      "name": "python3"
    },
    "language_info": {
      "codemirror_mode": {
        "name": "ipython",
        "version": 3
      },
      "file_extension": ".py",
      "mimetype": "text/x-python",
      "name": "python",
      "nbconvert_exporter": "python",
      "pygments_lexer": "ipython3",
      "version": "3.8.5"
    }
  },
  "cells": [
    {
      "cell_type": "markdown",
      "metadata": {
        "id": "view-in-github",
        "colab_type": "text"
      },
      "source": [
        "<a href=\"https://colab.research.google.com/github/https-deeplearning-ai/tensorflow-2-public/blob/adding_C3/C3/W4/assignments/A1/C3_W4_A1_Assignment.ipynb\" target=\"_parent\"><img src=\"https://colab.research.google.com/assets/colab-badge.svg\" alt=\"Open In Colab\"/></a>"
      ]
    },
    {
      "cell_type": "markdown",
      "metadata": {
        "id": "P6mDXpmORJkT"
      },
      "source": [
        "# Parallelization with TFDS"
      ]
    },
    {
      "cell_type": "markdown",
      "metadata": {
        "id": "dJlcM0TLRJkW"
      },
      "source": [
        "In this week's exercise, we'll go back to the classic cats versus dogs example, but instead of just naively loading the data to train a model, you will be parallelizing various stages of the Extract, Transform and Load processes. In particular, you will be performing following tasks:   \n",
        "\n",
        "1.   Parallelize the extraction of the stored TFRecords of the cats_vs_dogs dataset by using the interleave operation.\n",
        "2.   Parallelize the transformation during the preprocessing of the raw dataset by using the map operation.\n",
        "3.   Cache the processed dataset in memory by using the cache operation for faster retrieval.\n",
        "4.   Parallelize the loading of the cached dataset during the training cycle by using the prefetch operation."
      ]
    },
    {
      "cell_type": "markdown",
      "metadata": {
        "id": "DWW88mSnRJkX"
      },
      "source": [
        "## Setup"
      ]
    },
    {
      "cell_type": "code",
      "metadata": {
        "id": "qvQluC9eUoAQ"
      },
      "source": [
        "# don't run this cell if you are running your notebook on Coursera, and delete this code block\n",
        "# !pip install --upgrade tensorflow_datasets"
      ],
      "execution_count": null,
      "outputs": []
    },
    {
      "cell_type": "code",
      "metadata": {
        "id": "RoPuCbDtBlYK"
      },
      "source": [
        "import multiprocessing\n",
        "\n",
        "import tensorflow as tf\n",
        "import tensorflow_datasets as tfds\n",
        "\n",
        "from os import getcwd"
      ],
      "execution_count": null,
      "outputs": []
    },
    {
      "cell_type": "markdown",
      "metadata": {
        "id": "PGx91BpDRJkY"
      },
      "source": [
        "## Create and Compile the Model"
      ]
    },
    {
      "cell_type": "code",
      "metadata": {
        "id": "WOI6Dk_oJQEK"
      },
      "source": [
        "def create_model():\n",
        "    input_layer = tf.keras.layers.Input(shape=(224, 224, 3))\n",
        "    base_model = tf.keras.applications.MobileNetV2(input_tensor=input_layer,\n",
        "                                                   weights='imagenet',\n",
        "                                                   include_top=False)\n",
        "    base_model.trainable = False\n",
        "    x = tf.keras.layers.GlobalAveragePooling2D()(base_model.output)\n",
        "    x = tf.keras.layers.Dense(2, activation='softmax')(x)\n",
        "    \n",
        "    model = tf.keras.models.Model(inputs=input_layer, outputs=x)\n",
        "    model.compile(optimizer='adam',\n",
        "                  loss='sparse_categorical_crossentropy',\n",
        "                  metrics=['acc'])\n",
        "    return model"
      ],
      "execution_count": null,
      "outputs": []
    },
    {
      "cell_type": "markdown",
      "metadata": {
        "id": "qY_9YziyRJkZ"
      },
      "source": [
        "## Naive Approach\n",
        "\n",
        "Just for comparison, let's start by using the naive approach to Extract, Transform, and Load the data to train the model defined above. By naive approach we mean that we won't apply any of the new concepts of parallelization that we learned about in this module."
      ]
    },
    {
      "cell_type": "code",
      "metadata": {
        "id": "SPjns6UfCCSn"
      },
      "source": [
        "dataset_name = 'cats_vs_dogs'\n",
        "\n",
        "# if you are running on Coursera\n",
        "# filePath = f\"{getcwd()}/data\"\n",
        "# dataset, info = tfds.load(name=dataset_name, split=tfds.Split.TRAIN, with_info=True, data_dir=filePath)\n",
        "\n",
        "# if you are running on your local machine\n",
        "filePath = \"./data\"\n",
        "dataset, info = tfds.load(name=dataset_name, split=tfds.Split.TRAIN, with_info=True, data_dir=filePath)\n",
        "\n",
        "# if you are running on colab\n",
        "# dataset, info = tfds.load(name=dataset_name, split=tfds.Split.TRAIN, with_info=True)"
      ],
      "execution_count": null,
      "outputs": []
    },
    {
      "cell_type": "code",
      "metadata": {
        "id": "hN3P7OWKQLG2"
      },
      "source": [
        "print(info.version)"
      ],
      "execution_count": null,
      "outputs": []
    },
    {
      "cell_type": "code",
      "metadata": {
        "id": "I3Q7Etb8ENRG"
      },
      "source": [
        "def preprocess(features):\n",
        "    image = features['image']\n",
        "    image = tf.image.resize(image, (224, 224))\n",
        "    image = image / 255.0\n",
        "    return image, features['label']"
      ],
      "execution_count": null,
      "outputs": []
    },
    {
      "cell_type": "code",
      "metadata": {
        "id": "sQCfvf4WENg2"
      },
      "source": [
        "train_dataset = dataset.map(preprocess).batch(32)"
      ],
      "execution_count": null,
      "outputs": []
    },
    {
      "cell_type": "markdown",
      "metadata": {
        "id": "WAfTxg4sRNVE"
      },
      "source": [
        "The next step will be to train the model using the following code:\n",
        "\n",
        "```python\n",
        "model = create_model()\n",
        "model.fit(train_dataset, epochs=5)\n",
        "```\n",
        "Since we want to focus on the parallelization techniques, we won't go through the training process here, as this can take some time. "
      ]
    },
    {
      "cell_type": "markdown",
      "metadata": {
        "id": "c5fzrFnXLEJW"
      },
      "source": [
        "# Parallelize Various Stages of the ETL Processes\n",
        "\n",
        "The following exercises are about parallelizing various stages of Extract, Transform and Load processes. In particular, you will be tasked with performing following tasks:   \n",
        "\n",
        "1.   Parallelize the extraction of the stored TFRecords of the cats_vs_dogs dataset by using the interleave operation.\n",
        "2.   Parallelize the transformation during the preprocessing of the raw dataset by using the map operation.\n",
        "3.   Cache the processed dataset in memory by using the cache operation for faster retrieval.\n",
        "4.   Parallelize the loading of the cached dataset during the training cycle by using the prefetch operation.\n",
        "\n",
        "We start by creating a dataset of strings corresponding to the `file_pattern` of the TFRecords of the cats_vs_dogs dataset."
      ]
    },
    {
      "cell_type": "code",
      "metadata": {
        "id": "S9Tqn9gALFaE"
      },
      "source": [
        "# if you are running on Coursera\n",
        "# file_pattern = f'{getcwd()}/data/{dataset_name}/{info.version}/{dataset_name}-train.tfrecord*'\n",
        "\n",
        "# if you are running on your local machine, specify the location of where the dataset was downloaded on your local machine (e.g below is where it was downlaoded for me)\n",
        "# %cd ~\n",
        "# file_pattern = f'./tensorflow_datasets/{dataset_name}/{info.version}/{dataset_name}-train.tfrecord*'\n",
        "\n",
        "# if you are running on colab\n",
        "file_pattern = f'/root/tensorflow_datasets/{dataset_name}/{info.version}/{dataset_name}-train.tfrecord*'\n",
        "\n",
        "files = tf.data.Dataset.list_files(file_pattern)"
      ],
      "execution_count": null,
      "outputs": []
    },
    {
      "cell_type": "markdown",
      "metadata": {
        "id": "urYwv7IsRJke"
      },
      "source": [
        "Let's recall that the TFRecord format is a simple format for storing a sequence of binary records. This is very useful because by serializing the data and storing it in a set of files (100-200MB each) that can each be read linearly greatly increases the efficiency when reading the data.\n",
        "\n",
        "Since we will use it later, we should also recall that a `tf.Example` message (or protobuf) is a flexible message type that represents a `{\"string\": tf.train.Feature}` mapping."
      ]
    },
    {
      "cell_type": "markdown",
      "metadata": {
        "id": "bqvYsWmVS9EW"
      },
      "source": [
        "## Parallelize Extraction\n",
        "\n",
        "In the cell below you will use the [interleave](https://www.tensorflow.org/api_docs/python/tf/data/Dataset#interleave) operation with certain [arguments](https://www.tensorflow.org/api_docs/python/tf/data/Dataset#args_38) to parallelize the extraction of the stored TFRecords of the cats_vs_dogs dataset.\n",
        "\n",
        "Recall that `tf.data.experimental.AUTOTUNE` will delegate the decision about what level of parallelism to use to the `tf.data` runtime."
      ]
    },
    {
      "cell_type": "code",
      "metadata": {
        "id": "2zYCJMSoSHhd"
      },
      "source": [
        "# EXERCISE: Parallelize the extraction of the stored TFRecords of\n",
        "# the cats_vs_dogs dataset by using the interleave operation with\n",
        "# cycle_length = 4 and the number of parallel calls set to tf.data.experimental.AUTOTUNE.\n",
        "train_dataset = # YOUR CODE HERE"
      ],
      "execution_count": null,
      "outputs": []
    },
    {
      "cell_type": "markdown",
      "metadata": {
        "id": "OiL5S0GdTKPK"
      },
      "source": [
        "## Parse and Decode\n",
        "\n",
        "At this point the `train_dataset` contains serialized `tf.train.Example` messages. When iterated over, it returns these as scalar string tensors. The sample output for one record is given below:\n",
        "\n",
        "```\n",
        "<tf.Tensor: id=189, shape=(), dtype=string, numpy=b'\\n\\x8f\\xc4\\x01\\n\\x0e\\n\\x05label\\x12\\x05\\x1a\\x03\\n\\x01\\x00\\n,\\n\\x0eimage/filename\\x12\\x1a\\n\\x18\\n\\x16PetImages/Cat/4159.jpg\\n\\xcd\\xc3\\x01\\n\\x05image\\x12...\\xff\\xd9'>\n",
        "```\n",
        "\n",
        "In order to be able to use these tensors to train our model, we must first parse them and decode them. We can parse and decode these string tensors by using a function. In the cell below you will create a `read_tfrecord` function that will read the serialized `tf.train.Example` messages and decode them. The function will also normalize and resize the images after they have been decoded. \n",
        "\n",
        "In order to parse the `tf.train.Example` messages we need to create a `feature_description` dictionary. We need the `feature_description` dictionary because TFDS uses graph-execution and therefore, needs this description to build their shape and type signature. The basic structure of the `feature_description` dictionary looks like this:\n",
        "\n",
        "```python\n",
        "feature_description = {'feature': tf.io.FixedLenFeature([], tf.Dtype, default_value)}\n",
        "```\n",
        "\n",
        "The number of features in your `feature_description` dictionary will vary depending on your dataset. In our particular case, the features are `'image'` and `'label'` and can be seen in the sample output of the string tensor above. Therefore, our `feature_description` dictionary will look like this:\n",
        "\n",
        "```python\n",
        "feature_description = {\n",
        "    'image': tf.io.FixedLenFeature((), tf.string, \"\"),\n",
        "    'label': tf.io.FixedLenFeature((), tf.int64, -1),\n",
        "}\n",
        "```\n",
        "\n",
        "where we have given the default values of `\"\"` and `-1` to the `'image'` and `'label'` respectively.\n",
        "\n",
        "The next step will be to parse the serialized `tf.train.Example` message using the `feature_description` dictionary given above. This can be done with the following code:\n",
        "\n",
        "```python\n",
        "example = tf.io.parse_single_example(serialized_example, feature_description)\n",
        "```\n",
        "\n",
        "Finally, we can decode the image by using:\n",
        "\n",
        "```python\n",
        "image = tf.io.decode_jpeg(example['image'], channels=3)\n",
        "```\n",
        "\n",
        "Use the code given above to complete the exercise below."
      ]
    },
    {
      "cell_type": "code",
      "metadata": {
        "id": "5iWEqIYQSYgN"
      },
      "source": [
        "# EXERCISE: Fill in the missing code below.\n",
        "\n",
        "def read_tfrecord(serialized_example):\n",
        "    \n",
        "    # Create the feature description dictionary\n",
        "    feature_description = {\n",
        "        'image': # YOUR CODE HERE\n",
        "        'label': # YOUR CODE HERE\n",
        "    }\n",
        "    # Parse the serialized_example and decode the image\n",
        "    example = # YOUR CODE HERE\n",
        "    image = # YOUR CODE HERE\n",
        "    \n",
        "    image = tf.cast(image, tf.float32)\n",
        "    \n",
        "    # Normalize the pixels in the image\n",
        "    image = # YOUR CODE HERE\n",
        "    \n",
        "    # Resize the image to (224, 224) using tf.image.resize\n",
        "    image = # YOUR CODE HERE\n",
        "    \n",
        "    return image, example['label']"
      ],
      "execution_count": null,
      "outputs": []
    },
    {
      "cell_type": "markdown",
      "metadata": {
        "id": "1qntKBKWRJkh"
      },
      "source": [
        "## Parallelize Transformation\n",
        "\n",
        "You can now apply the `read_tfrecord` function to each item in the `train_dataset` by using the `map` method. You can parallelize the transformation of the `train_dataset` by using the `map` method with the `num_parallel_calls` set to the number of CPU cores."
      ]
    },
    {
      "cell_type": "code",
      "metadata": {
        "id": "mRFO7n7odLTk"
      },
      "source": [
        "# EXERCISE: Fill in the missing code below.\n",
        "\n",
        "# Get the number of CPU cores. \n",
        "cores = # YOUR CODE HERE\n",
        "\n",
        "print(cores)\n",
        "\n",
        "# Parallelize the transformation of the train_dataset by using\n",
        "# the map operation with the number of parallel calls set to\n",
        "# the number of CPU cores.\n",
        "train_dataset = # YOUR CODE HERE"
      ],
      "execution_count": null,
      "outputs": []
    },
    {
      "cell_type": "markdown",
      "metadata": {
        "id": "43XLYAvGTsew"
      },
      "source": [
        "## Cache the Dataset"
      ]
    },
    {
      "cell_type": "code",
      "metadata": {
        "id": "D0zWUJ3gTuRx"
      },
      "source": [
        "# EXERCISE: Cache the train_dataset in-memory.\n",
        "train_dataset = # YOUR CODE HERE"
      ],
      "execution_count": null,
      "outputs": []
    },
    {
      "cell_type": "markdown",
      "metadata": {
        "id": "KhpFlwM8TTxO"
      },
      "source": [
        "## Parallelize Loading"
      ]
    },
    {
      "cell_type": "code",
      "metadata": {
        "id": "FdZ-aTECSE2a"
      },
      "source": [
        "# EXERCISE: Fill in the missing code below.\n",
        "\n",
        "# Shuffle and batch the train_dataset. Use a buffer size of 1024\n",
        "# for shuffling and a batch size 32 for batching. \n",
        "train_dataset = # YOUR CODE HERE\n",
        "\n",
        "# Parallelize the loading by prefetching the train_dataset.\n",
        "# Set the prefetching buffer size to tf.data.experimental.AUTOTUNE.\n",
        "train_dataset = # YOUR CODE HERE "
      ],
      "execution_count": null,
      "outputs": []
    },
    {
      "cell_type": "markdown",
      "metadata": {
        "id": "Ra-vC0FqRnBk"
      },
      "source": [
        "The next step will be to train your model using the following code:\n",
        "\n",
        "```python\n",
        "model = create_model()\n",
        "model.fit(train_dataset, epochs=5)\n",
        "```\n",
        "We won't go through the training process here as this can take some time. However, due to the parallelization of the various stages of the ETL processes, you should see a decrease in training time as compared to the naive approach depicted at beginning of the notebook."
      ]
    },
    {
      "cell_type": "markdown",
      "metadata": {
        "id": "r5Jp8TnzRJkk"
      },
      "source": [
        "# Submission Instructions"
      ]
    },
    {
      "cell_type": "code",
      "metadata": {
        "id": "uJPiA98oPfrg"
      },
      "source": [
        "# Now click the 'Submit Assignment' button above."
      ],
      "execution_count": null,
      "outputs": []
    },
    {
      "cell_type": "markdown",
      "metadata": {
        "id": "Ps7VlB0FRJkl"
      },
      "source": [
        "# When you're done or would like to take a break, please run the two cells below to save your work and close the Notebook. This frees up resources for your fellow learners."
      ]
    },
    {
      "cell_type": "code",
      "metadata": {
        "id": "VkihJMXBRJkl"
      },
      "source": [
        "%%javascript\n",
        "<!-- Save the notebook -->\n",
        "IPython.notebook.save_checkpoint();"
      ],
      "execution_count": null,
      "outputs": []
    },
    {
      "cell_type": "code",
      "metadata": {
        "id": "tC6E0qiYRJkm"
      },
      "source": [
        "%%javascript\n",
        "<!-- Shutdown and close the notebook -->\n",
        "window.onbeforeunload = null\n",
        "window.close();\n",
        "IPython.notebook.session.delete();"
      ],
      "execution_count": null,
      "outputs": []
    }
  ]
}