{
  "nbformat": 4,
  "nbformat_minor": 0,
  "metadata": {
    "kernelspec": {
      "display_name": "Python 3",
      "language": "python",
      "name": "python3"
    },
    "language_info": {
      "codemirror_mode": {
        "name": "ipython",
        "version": 3
      },
      "file_extension": ".py",
      "mimetype": "text/x-python",
      "name": "python",
      "nbconvert_exporter": "python",
      "pygments_lexer": "ipython3",
      "version": "3.8.5"
    },
    "colab": {
      "name": "C3_W4_A2_Assignment_Optional.ipynb",
      "provenance": [],
      "collapsed_sections": [],
      "include_colab_link": true
    },
    "accelerator": "GPU"
  },
  "cells": [
    {
      "cell_type": "markdown",
      "metadata": {
        "id": "view-in-github",
        "colab_type": "text"
      },
      "source": [
        "<a href=\"https://colab.research.google.com/github/https-deeplearning-ai/tensorflow-2-public/blob/adding_C3/C3/W4/assignments/A2/C3_W4_A2_Assignment_Optional.ipynb\" target=\"_parent\"><img src=\"https://colab.research.google.com/assets/colab-badge.svg\" alt=\"Open In Colab\"/></a>"
      ]
    },
    {
      "cell_type": "markdown",
      "metadata": {
        "id": "aKwi1_4l0wev"
      },
      "source": [
        "# Adding a Dataset of Your Own to TFDS"
      ]
    },
    {
      "cell_type": "markdown",
      "metadata": {
        "id": "AG_3w0CT-ROm"
      },
      "source": [
        "Install tensorflow_datasets 3.2.1 version."
      ]
    },
    {
      "cell_type": "code",
      "metadata": {
        "id": "DX-sB1YK-QwC"
      },
      "source": [
        "# !pip install tensorflow_datasets==3.2.1"
      ],
      "execution_count": null,
      "outputs": []
    },
    {
      "cell_type": "code",
      "metadata": {
        "id": "w9nZyRcLhtiX"
      },
      "source": [
        "import os\n",
        "import textwrap\n",
        "import scipy.io\n",
        "import pandas as pd\n",
        "\n",
        "from os import getcwd"
      ],
      "execution_count": null,
      "outputs": []
    },
    {
      "cell_type": "markdown",
      "metadata": {
        "id": "wooh61rn2FvF"
      },
      "source": [
        "## IMDB Faces Dataset\n",
        "\n",
        "This is the largest publicly available dataset of face images with gender and age labels for training.\n",
        "\n",
        "Source: https://data.vision.ee.ethz.ch/cvl/rrothe/imdb-wiki/\n",
        "\n",
        "The IMDb Faces dataset provides a separate .mat file which can be loaded with Matlab containing all the meta information. The format is as follows:  \n",
        "**dob**: date of birth (Matlab serial date number)  \n",
        "**photo_taken**: year when the photo was taken  \n",
        "**full_path**: path to file  \n",
        "**gender**: 0 for female and 1 for male, NaN if unknown  \n",
        "**name**: name of the celebrity  \n",
        "**face_location**: location of the face (bounding box)  \n",
        "**face_score**: detector score (the higher the better). Inf implies that no face was found in the image and the face_location then just returns the entire image  \n",
        "**second_face_score**: detector score of the face with the second highest score. This is useful to ignore images with more than one face. second_face_score is NaN if no second face was detected.  \n",
        "**celeb_names**: list of all celebrity names  \n",
        "**celeb_id**: index of celebrity name  "
      ]
    },
    {
      "cell_type": "markdown",
      "metadata": {
        "id": "L0eiziY8-PGI"
      },
      "source": [
        "Next, let's inspect the dataset"
      ]
    },
    {
      "cell_type": "markdown",
      "metadata": {
        "id": "uspGC84pWmjR"
      },
      "source": [
        "## Exploring the Data"
      ]
    },
    {
      "cell_type": "code",
      "metadata": {
        "id": "sp7bUzZr3ZUQ"
      },
      "source": [
        "# Inspect the directory structure\n",
        "\n",
        "# if you are running the notebook on Coursera\n",
        "# imdb_crop_file_path = f\"{getcwd()}/data/imdb_crop\"\n",
        "\n",
        "# if you are running the notebook on your local machine\n",
        "imdb_crop_file_path = \"./data/imdb_crop\"\n",
        "\n",
        "# if you are running the notebook on Colab\n",
        "# !wget https://data.vision.ee.ethz.ch/cvl/rrothe/imdb-wiki/static/imdb_crop.tar\n",
        "# !tar xf imdb_crop.tar\n",
        "# imdb_crop_file_path = \"imdb_crop\"\n",
        "\n",
        "files = os.listdir(imdb_crop_file_path)\n",
        "print(textwrap.fill(' '.join(sorted(files)), 80))"
      ],
      "execution_count": null,
      "outputs": []
    },
    {
      "cell_type": "code",
      "metadata": {
        "id": "1aPlCn9E2PMj"
      },
      "source": [
        "# Inspect the meta data\n",
        "\n",
        "# # if you are running the notebook on Coursera\n",
        "# imdb_mat_file_path = f\"{getcwd()}/data/imdb_crop/imdb.mat\"\n",
        "\n",
        "# if you are running the notebook on your local machine\n",
        "imdb_mat_file_path = \"./data/imdb_crop/imdb.mat\"\n",
        "\n",
        "# if you are running the notebook on Colab\n",
        "# imdb_mat_file_path = '/content/imdb_crop/imdb.mat'\n",
        "\n",
        "meta = scipy.io.loadmat(imdb_mat_file_path)"
      ],
      "execution_count": null,
      "outputs": []
    },
    {
      "cell_type": "code",
      "metadata": {
        "id": "aFj-jsz-6z-I"
      },
      "source": [
        "meta"
      ],
      "execution_count": null,
      "outputs": []
    },
    {
      "cell_type": "markdown",
      "metadata": {
        "id": "rnPmrXJ9XAkK"
      },
      "source": [
        "## Extraction"
      ]
    },
    {
      "cell_type": "markdown",
      "metadata": {
        "id": "zOBtgW6U_VgP"
      },
      "source": [
        "Let's clear up the clutter by going to the metadata's most useful key (imdb) and start exploring all the other keys inside it"
      ]
    },
    {
      "cell_type": "code",
      "metadata": {
        "id": "fgrZJWOA7RVa"
      },
      "source": [
        "root = meta['imdb'][0, 0]"
      ],
      "execution_count": null,
      "outputs": []
    },
    {
      "cell_type": "code",
      "metadata": {
        "id": "BqqaBw6Y7tku"
      },
      "source": [
        "desc = root.dtype.descr\n",
        "desc"
      ],
      "execution_count": null,
      "outputs": []
    },
    {
      "cell_type": "code",
      "metadata": {
        "id": "s3WJXw4G2cPk"
      },
      "source": [
        "# EXERCISE: Fill in the missing code below.\n",
        "\n",
        "full_path = root[\"full_path\"][0]\n",
        "\n",
        "# Do the same for other attributes\n",
        "names = # YOUR CODE HERE\n",
        "dob = # YOUR CODE HERE\n",
        "gender = # YOUR CODE HERE\n",
        "photo_taken = # YOUR CODE HERE\n",
        "face_score = # YOUR CODE HERE\n",
        "face_locations = # YOUR CODE HERE\n",
        "second_face_score = # YOUR CODE HERE\n",
        "celeb_names = # YOUR CODE HERE\n",
        "celeb_ids = # YOUR CODE HERE\n",
        "\n",
        "print('Filepaths: {}\\n\\n'\n",
        "      'Names: {}\\n\\n'\n",
        "      'Dates of birth: {}\\n\\n'\n",
        "      'Genders: {}\\n\\n'\n",
        "      'Years when the photos were taken: {}\\n\\n'\n",
        "      'Face scores: {}\\n\\n'\n",
        "      'Face locations: {}\\n\\n'\n",
        "      'Second face scores: {}\\n\\n'\n",
        "      'Celeb IDs: {}\\n\\n'\n",
        "      .format(full_path, names, dob, gender, photo_taken, face_score, face_locations, second_face_score, celeb_ids))"
      ],
      "execution_count": null,
      "outputs": []
    },
    {
      "cell_type": "code",
      "metadata": {
        "id": "zjKXJU1yEnMb"
      },
      "source": [
        "print('Celeb names: {}\\n\\n'.format(celeb_names))"
      ],
      "execution_count": null,
      "outputs": []
    },
    {
      "cell_type": "markdown",
      "metadata": {
        "id": "TT0un3eFXNW-"
      },
      "source": [
        "Display all the distinct keys and their corresponding values"
      ]
    },
    {
      "cell_type": "code",
      "metadata": {
        "id": "rYb98AUtC_fA"
      },
      "source": [
        "names = [x[0] for x in desc]\n",
        "names"
      ],
      "execution_count": null,
      "outputs": []
    },
    {
      "cell_type": "code",
      "metadata": {
        "id": "xJJ9j56hDvnN"
      },
      "source": [
        "values = {key: root[key][0] for key in names}\n",
        "values"
      ],
      "execution_count": null,
      "outputs": []
    },
    {
      "cell_type": "markdown",
      "metadata": {
        "id": "lYob5mjgXpuy"
      },
      "source": [
        "## Cleanup"
      ]
    },
    {
      "cell_type": "markdown",
      "metadata": {
        "id": "3YRjp2gpXbRA"
      },
      "source": [
        "Pop out the celeb names as they are not relevant for creating the records."
      ]
    },
    {
      "cell_type": "code",
      "metadata": {
        "id": "VRi5bcqnFBua"
      },
      "source": [
        "del values['celeb_names']\n",
        "names.pop(names.index('celeb_names'))"
      ],
      "execution_count": null,
      "outputs": []
    },
    {
      "cell_type": "markdown",
      "metadata": {
        "id": "V2uhpASzXhuy"
      },
      "source": [
        "Let's see how many values are present in each key"
      ]
    },
    {
      "cell_type": "code",
      "metadata": {
        "id": "4Zu_L_QFEPEm"
      },
      "source": [
        "for key, value in values.items():\n",
        "    print(key, len(value))"
      ],
      "execution_count": null,
      "outputs": []
    },
    {
      "cell_type": "markdown",
      "metadata": {
        "id": "uJUvw-MBXuKb"
      },
      "source": [
        "## Dataframe"
      ]
    },
    {
      "cell_type": "markdown",
      "metadata": {
        "id": "2_uZu2ZQ_169"
      },
      "source": [
        "Now, let's try examining one example from the dataset. To do this, let's load all the attributes that we've extracted just now into a Pandas dataframe"
      ]
    },
    {
      "cell_type": "code",
      "metadata": {
        "id": "x-O0pLwWAREq"
      },
      "source": [
        "df = pd.DataFrame(values, columns=names)\n",
        "df.head()"
      ],
      "execution_count": null,
      "outputs": []
    },
    {
      "cell_type": "markdown",
      "metadata": {
        "id": "w-wdFD8uIyRf"
      },
      "source": [
        "The Pandas dataframe may contain some Null values or nan. We will have to filter them later on."
      ]
    },
    {
      "cell_type": "code",
      "metadata": {
        "id": "YGsTHc2VIoJh"
      },
      "source": [
        "df.isna().sum()"
      ],
      "execution_count": null,
      "outputs": []
    },
    {
      "cell_type": "markdown",
      "metadata": {
        "id": "DS-9rLTR065l"
      },
      "source": [
        "# TensorFlow Datasets\n",
        "\n",
        "TFDS provides a way to transform all those datasets into a standard format, do the preprocessing necessary to make them ready for a machine learning pipeline, and provides a standard input pipeline using `tf.data`.\n",
        "\n",
        "To enable this, each dataset implements a subclass of `DatasetBuilder`, which specifies:\n",
        "\n",
        "* Where the data is coming from (i.e. its URL). \n",
        "* What the dataset looks like (i.e. its features).  \n",
        "* How the data should be split (e.g. TRAIN and TEST). \n",
        "* The individual records in the dataset.\n",
        "\n",
        "The first time a dataset is used, the dataset is downloaded, prepared, and written to disk in a standard format. Subsequent access will read from those pre-processed files directly."
      ]
    },
    {
      "cell_type": "markdown",
      "metadata": {
        "id": "6bGCSA-jX0Uw"
      },
      "source": [
        "## Clone the TFDS Repository\n",
        "\n",
        "The next step will be to clone the GitHub TFDS Repository. For this particular notebook, we will clone a particular version of the repository. You can clone the repository by running the following command:\n",
        "\n",
        "```\n",
        "!git clone https://github.com/tensorflow/datasets.git -b v1.2.0\n",
        "```\n",
        "\n",
        "However, for simplicity, we have already cloned this repository for you and placed the files locally. Therefore, there is no need to run the above command if you are running this notebook in Coursera environment.\n",
        "\n",
        "Next, we set the current working directory to `/datasets/`."
      ]
    },
    {
      "cell_type": "code",
      "metadata": {
        "id": "KhYXnLCf5F-Y"
      },
      "source": [
        "# if you are running the notebook on Coursera or your local machine\n",
        "%cd datasets\n",
        "!ls\n",
        "\n",
        "# if you are running the notebook on Colab \n",
        "# !git clone https://github.com/tensorflow/datasets.git -b v1.2.0"
      ],
      "execution_count": null,
      "outputs": []
    },
    {
      "cell_type": "code",
      "metadata": {
        "id": "007VwQfA-PGS"
      },
      "source": [
        "# if you are running this notebook on Coursera or your local machine, skip this code block\n",
        "\n",
        "# if you are running the notebook on Colab\n",
        "# !cd /content/datasets"
      ],
      "execution_count": null,
      "outputs": []
    },
    {
      "cell_type": "markdown",
      "metadata": {
        "id": "6Fct97VEYxlT"
      },
      "source": [
        "If you want to contribute to TFDS' repo and add a new dataset, you can use the the following script to help you generate a template of the required python file. To use it, you must first clone the tfds repository and then run the following command:"
      ]
    },
    {
      "cell_type": "code",
      "metadata": {
        "id": "wZ3psFN65G9u"
      },
      "source": [
        "%%bash\n",
        "\n",
        "python tensorflow_datasets/scripts/create_new_dataset.py \\\n",
        "  --dataset my_dataset \\\n",
        "  --type image"
      ],
      "execution_count": null,
      "outputs": []
    },
    {
      "cell_type": "markdown",
      "metadata": {
        "id": "a5UbwBVRTmb2"
      },
      "source": [
        "If you wish to see the template generated by the `create_new_dataset.py` file, navigate to the folder indicated in the above cell output. Then go to the `/image/` folder and look for a file called `my_dataset.py`. Feel free to open the file and inspect it. You will see a template with place holders, indicated with the word `TODO`, where you have to fill in the information. \n",
        "\n",
        "Now we will use IPython's `%%writefile` in-built magic command to write whatever is in the current cell into a file. To create or overwrite a file you can use:\n",
        "```\n",
        "%%writefile filename\n",
        "```\n",
        "\n",
        "Let's see an example:"
      ]
    },
    {
      "cell_type": "code",
      "metadata": {
        "id": "qkspG9KV7X7i"
      },
      "source": [
        "%%writefile something.py\n",
        "x = 10"
      ],
      "execution_count": null,
      "outputs": []
    },
    {
      "cell_type": "markdown",
      "metadata": {
        "id": "TQ--c2h0K6R1"
      },
      "source": [
        "Now that the file has been written, let's inspect its contents."
      ]
    },
    {
      "cell_type": "code",
      "metadata": {
        "id": "VqBEa9UrK4-Z"
      },
      "source": [
        "!cat something.py"
      ],
      "execution_count": null,
      "outputs": []
    },
    {
      "cell_type": "markdown",
      "metadata": {
        "id": "UJT2Mh-bYmYa"
      },
      "source": [
        "## Define the Dataset with `GeneratorBasedBuilder`\n",
        "\n",
        "Most datasets subclass `tfds.core.GeneratorBasedBuilder`, which is a subclass of `tfds.core.DatasetBuilder` that simplifies defining a dataset. It works well for datasets that can be generated on a single machine. Its subclasses implement:\n",
        "\n",
        "* `_info`: builds the DatasetInfo object describing the dataset\n",
        "\n",
        "\n",
        "* `_split_generators`: downloads the source data and defines the dataset splits\n",
        "\n",
        "\n",
        "* `_generate_examples`: yields (key, example) tuples in the dataset from the source data\n",
        "\n",
        "In this exercise, you will use the `GeneratorBasedBuilder`.\n",
        "\n",
        "### EXERCISE: Fill in the missing code below."
      ]
    },
    {
      "cell_type": "code",
      "metadata": {
        "id": "cYyTvIoO7FqS"
      },
      "source": [
        "%%writefile tensorflow_datasets/image/imdb_faces.py\n",
        "\n",
        "# coding=utf-8\n",
        "# Copyright 2019 The TensorFlow Datasets Authors.\n",
        "#\n",
        "# Licensed under the Apache License, Version 2.0 (the \"License\");\n",
        "# you may not use this file except in compliance with the License.\n",
        "# You may obtain a copy of the License at\n",
        "#\n",
        "#     http://www.apache.org/licenses/LICENSE-2.0\n",
        "#\n",
        "# Unless required by applicable law or agreed to in writing, software\n",
        "# distributed under the License is distributed on an \"AS IS\" BASIS,\n",
        "# WITHOUT WARRANTIES OR CONDITIONS OF ANY KIND, either express or implied.\n",
        "# See the License for the specific language governing permissions and\n",
        "# limitations under the License.\n",
        "\n",
        "\"\"\"IMDB Faces dataset.\"\"\"\n",
        "from __future__ import absolute_import\n",
        "from __future__ import division\n",
        "from __future__ import print_function\n",
        "\n",
        "import collections\n",
        "import os\n",
        "import re\n",
        "\n",
        "import tensorflow as tf\n",
        "import tensorflow_datasets.public_api as tfds\n",
        "\n",
        "_DESCRIPTION = \"\"\"\\\n",
        "Follow the URL below and write a description on IMDB Faces dataset.\n",
        "\"\"\"\n",
        "\n",
        "_URL = (\"https://data.vision.ee.ethz.ch/cvl/rrothe/imdb-wiki/\")\n",
        "_DATASET_ROOT_DIR = # Put the name of the dataset root directory here\n",
        "_ANNOTATION_FILE = # Put the name of annotation file here (.mat file)\n",
        "\n",
        "\n",
        "_CITATION = \"\"\"\\\n",
        "Follow the URL and paste the citation of IMDB Faces dataset.\n",
        "\"\"\"\n",
        "\n",
        "# Source URL of the IMDB faces dataset\n",
        "_TARBALL_URL = \"https://data.vision.ee.ethz.ch/cvl/rrothe/imdb-wiki/static/imdb_crop.tar\"\n",
        "\n",
        "class ImdbFaces(tfds.core.GeneratorBasedBuilder):\n",
        "  \"\"\"IMDB Faces dataset.\"\"\"\n",
        "\n",
        "  VERSION = tfds.core.Version(\"0.1.0\")\n",
        "  \n",
        "  def _info(self):\n",
        "    return tfds.core.DatasetInfo(\n",
        "        builder=self,\n",
        "        description=_DESCRIPTION,\n",
        "        # Describe the features of the dataset by following this url\n",
        "        # https://www.tensorflow.org/datasets/api_docs/python/tfds/features\n",
        "        features=tfds.features.FeaturesDict({\n",
        "            \"image\": # Create a tfds Image feature here\n",
        "            \"gender\":  # Create a tfds Class Label feature here for the two classes (Female, Male)\n",
        "            \"dob\": # YOUR CODE HERE\n",
        "            \"photo_taken\": # YOUR CODE HERE\n",
        "            \"face_location\": # Create a tfds Bounding box feature here\n",
        "            \"face_score\": # YOUR CODE HERE\n",
        "            \"second_face_score\": # YOUR CODE HERE\n",
        "            \"celeb_id\": # YOUR CODE HERE\n",
        "        }),\n",
        "        supervised_keys=(\"image\", \"gender\"),\n",
        "        urls=[_URL],\n",
        "        citation=_CITATION)\n",
        "\n",
        "  def _split_generators(self, dl_manager):\n",
        "    # Download the dataset and then extract it.\n",
        "    download_path = dl_manager.download([_TARBALL_URL])\n",
        "    extracted_path = dl_manager.download_and_extract([_TARBALL_URL])\n",
        "\n",
        "    # Parsing the mat file which contains the list of train images\n",
        "    def parse_mat_file(file_name):\n",
        "      with tf.io.gfile.GFile(file_name, \"rb\") as f:\n",
        "        # Add a lazy import for scipy.io and import the loadmat method to \n",
        "        # load the annotation file\n",
        "        dataset = # YOUR CODE HERE\n",
        "      return dataset\n",
        "\n",
        "    # Parsing the mat file by using scipy's loadmat method\n",
        "    # Pass the path to the annotation file using the downloaded/extracted paths above\n",
        "    meta = parse_mat_file(# YOUR CODE HERE)\n",
        "\n",
        "    # Get the names of celebrities from the metadata\n",
        "    celeb_names = # YOUR CODE HERE\n",
        "\n",
        "    # Create tuples out of the distinct set of genders and celeb names\n",
        "    self.info.features['gender'].names = # YOUR CODE HERE\n",
        "    self.info.features['celeb_id'].names = # YOUR CODE HERE\n",
        "\n",
        "    return [\n",
        "        tfds.core.SplitGenerator(\n",
        "            name=tfds.Split.TRAIN,\n",
        "            gen_kwargs={\n",
        "                \"image_dir\": extracted_path[0],\n",
        "                \"metadata\": meta,\n",
        "            })\n",
        "    ]\n",
        "\n",
        "  def _get_bounding_box_values(self, bbox_annotations, img_width, img_height):\n",
        "    \"\"\"Function to get normalized bounding box values.\n",
        "\n",
        "    Args:\n",
        "      bbox_annotations: list of bbox values in kitti format\n",
        "      img_width: image width\n",
        "      img_height: image height\n",
        "\n",
        "    Returns:\n",
        "      Normalized bounding box xmin, ymin, xmax, ymax values\n",
        "    \"\"\"\n",
        "\n",
        "    ymin = bbox_annotations[0] / img_height\n",
        "    xmin = bbox_annotations[1] / img_width\n",
        "    ymax = bbox_annotations[2] / img_height\n",
        "    xmax = bbox_annotations[3] / img_width\n",
        "    return ymin, xmin, ymax, xmax\n",
        "  \n",
        "  def _get_image_shape(self, image_path):\n",
        "    image = tf.io.read_file(image_path)\n",
        "    image = tf.image.decode_image(image, channels=3)\n",
        "    shape = image.shape[:2]\n",
        "    return shape\n",
        "\n",
        "  def _generate_examples(self, image_dir, metadata):\n",
        "    # Add a lazy import for pandas here (pd)\n",
        "    pd = # YOUR CODE HERE\n",
        "\n",
        "    # Extract the root dictionary from the metadata so that you can query all the keys inside it\n",
        "    root = metadata[0, 0]\n",
        "\n",
        "    \"\"\"Extract image names, dobs, genders,  \n",
        "               face locations, \n",
        "               year when the photos were taken,\n",
        "               face scores (second face score too),\n",
        "               celeb ids\n",
        "    \"\"\"\n",
        "    image_names = root[\"full_path\"][0]\n",
        "    # Do the same for other attributes (dob, genders etc)\n",
        "    dobs = # YOUR CODE HERE\n",
        "    genders = # YOUR CODE HERE\n",
        "    face_locations = # YOUR CODE HERE\n",
        "    photo_taken_years = # YOUR CODE HERE\n",
        "    face_scores = # YOUR CODE HERE\n",
        "    second_face_scores = # YOUR CODE HERE\n",
        "    celeb_id = # YOUR CODE HERE\n",
        "        \n",
        "    # Now create a dataframe out of all the features like you've seen before\n",
        "    df = # YOUR CODE HERE\n",
        "\n",
        "    # Filter dataframe by only having the rows with face_scores > 1.0\n",
        "    df = # YOUR CODE HERE\n",
        "\n",
        "\n",
        "    # Remove any records that contain Nulls/NaNs by checking for NaN with .isna()\n",
        "    df = df[~df['genders'].isna()]\n",
        "    df = # YOUR CODE HERE\n",
        "\n",
        "    # Cast genders to integers so that mapping can take place\n",
        "    df.genders = # YOUR CODE HERE\n",
        "\n",
        "    # Iterate over all the rows in the dataframe and map each feature\n",
        "    for _, row in df.iterrows():\n",
        "      # Extract filename, gender, dob, photo_taken, \n",
        "      # face_score, second_face_score and celeb_id\n",
        "      filename = os.path.join(image_dir, _DATASET_ROOT_DIR, row['image_names'][0])\n",
        "      gender = row['genders']\n",
        "      dob = row['dobs']\n",
        "      photo_taken = row['photo_taken_years']\n",
        "      face_score = row['face_scores']\n",
        "      second_face_score = row['second_face_scores']\n",
        "      celeb_id = row['celeb_ids']\n",
        "\n",
        "      # Get the image shape\n",
        "      image_width, image_height = self._get_image_shape(filename)\n",
        "      # Normalize the bounding boxes by using the face coordinates and the image shape\n",
        "      bbox = self._get_bounding_box_values(row['face_locations'][0], \n",
        "                                           image_width, image_height)\n",
        "\n",
        "      # Yield a feature dictionary \n",
        "      yield filename, {\n",
        "          \"image\": filename,\n",
        "          \"gender\": gender,\n",
        "          \"dob\": dob,\n",
        "          \"photo_taken\": photo_taken,\n",
        "          \"face_location\": # Create a bounding box (BBox) object out of the coordinates extracted\n",
        "          \"face_score\": face_score,\n",
        "          \"second_face_score\": second_face_score,\n",
        "          \"celeb_id\": celeb_id\n",
        "      }\n"
      ],
      "execution_count": null,
      "outputs": []
    },
    {
      "cell_type": "markdown",
      "metadata": {
        "id": "7Lu65xXYZC8m"
      },
      "source": [
        "## Add an Import for Registration\n",
        "\n",
        "All subclasses of `tfds.core.DatasetBuilder` are automatically registered when their module is imported such that they can be accessed through `tfds.builder` and `tfds.load`.\n",
        "\n",
        "If you're contributing the dataset to `tensorflow/datasets`, you must add the module import to its subdirectory's `__init__.py` (e.g. `image/__init__.py`), as shown below:"
      ]
    },
    {
      "cell_type": "code",
      "metadata": {
        "id": "pKC49eVJXJLe"
      },
      "source": [
        "%%writefile tensorflow_datasets/image/__init__.py\n",
        "# coding=utf-8\n",
        "# Copyright 2019 The TensorFlow Datasets Authors.\n",
        "#\n",
        "# Licensed under the Apache License, Version 2.0 (the \"License\");\n",
        "# you may not use this file except in compliance with the License.\n",
        "# You may obtain a copy of the License at\n",
        "#\n",
        "#     http://www.apache.org/licenses/LICENSE-2.0\n",
        "#\n",
        "# Unless required by applicable law or agreed to in writing, software\n",
        "# distributed under the License is distributed on an \"AS IS\" BASIS,\n",
        "# WITHOUT WARRANTIES OR CONDITIONS OF ANY KIND, either express or implied.\n",
        "# See the License for the specific language governing permissions and\n",
        "# limitations under the License.\n",
        "\n",
        "\"\"\"Image datasets.\"\"\"\n",
        "\n",
        "from tensorflow_datasets.image.abstract_reasoning import AbstractReasoning\n",
        "from tensorflow_datasets.image.aflw2k3d import Aflw2k3d\n",
        "from tensorflow_datasets.image.bigearthnet import Bigearthnet\n",
        "from tensorflow_datasets.image.binarized_mnist import BinarizedMNIST\n",
        "from tensorflow_datasets.image.binary_alpha_digits import BinaryAlphaDigits\n",
        "from tensorflow_datasets.image.caltech import Caltech101\n",
        "from tensorflow_datasets.image.caltech_birds import CaltechBirds2010\n",
        "from tensorflow_datasets.image.cats_vs_dogs import CatsVsDogs\n",
        "from tensorflow_datasets.image.cbis_ddsm import CuratedBreastImagingDDSM\n",
        "from tensorflow_datasets.image.celeba import CelebA\n",
        "from tensorflow_datasets.image.celebahq import CelebAHq\n",
        "from tensorflow_datasets.image.chexpert import Chexpert\n",
        "from tensorflow_datasets.image.cifar import Cifar10\n",
        "from tensorflow_datasets.image.cifar import Cifar100\n",
        "from tensorflow_datasets.image.cifar10_corrupted import Cifar10Corrupted\n",
        "from tensorflow_datasets.image.clevr import CLEVR\n",
        "from tensorflow_datasets.image.coco import Coco\n",
        "from tensorflow_datasets.image.coco2014_legacy import Coco2014\n",
        "from tensorflow_datasets.image.coil100 import Coil100\n",
        "from tensorflow_datasets.image.colorectal_histology import ColorectalHistology\n",
        "from tensorflow_datasets.image.colorectal_histology import ColorectalHistologyLarge\n",
        "from tensorflow_datasets.image.cycle_gan import CycleGAN\n",
        "from tensorflow_datasets.image.deep_weeds import DeepWeeds\n",
        "from tensorflow_datasets.image.diabetic_retinopathy_detection import DiabeticRetinopathyDetection\n",
        "from tensorflow_datasets.image.downsampled_imagenet import DownsampledImagenet\n",
        "from tensorflow_datasets.image.dsprites import Dsprites\n",
        "from tensorflow_datasets.image.dtd import Dtd\n",
        "from tensorflow_datasets.image.eurosat import Eurosat\n",
        "from tensorflow_datasets.image.flowers import TFFlowers\n",
        "from tensorflow_datasets.image.food101 import Food101\n",
        "from tensorflow_datasets.image.horses_or_humans import HorsesOrHumans\n",
        "from tensorflow_datasets.image.image_folder import ImageLabelFolder\n",
        "from tensorflow_datasets.image.imagenet import Imagenet2012\n",
        "from tensorflow_datasets.image.imagenet2012_corrupted import Imagenet2012Corrupted\n",
        "from tensorflow_datasets.image.kitti import Kitti\n",
        "from tensorflow_datasets.image.lfw import LFW\n",
        "from tensorflow_datasets.image.lsun import Lsun\n",
        "from tensorflow_datasets.image.mnist import EMNIST\n",
        "from tensorflow_datasets.image.mnist import FashionMNIST\n",
        "from tensorflow_datasets.image.mnist import KMNIST\n",
        "from tensorflow_datasets.image.mnist import MNIST\n",
        "from tensorflow_datasets.image.mnist_corrupted import MNISTCorrupted\n",
        "from tensorflow_datasets.image.omniglot import Omniglot\n",
        "from tensorflow_datasets.image.open_images import OpenImagesV4\n",
        "from tensorflow_datasets.image.oxford_flowers102 import OxfordFlowers102\n",
        "from tensorflow_datasets.image.oxford_iiit_pet import OxfordIIITPet\n",
        "from tensorflow_datasets.image.patch_camelyon import PatchCamelyon\n",
        "from tensorflow_datasets.image.pet_finder import PetFinder\n",
        "from tensorflow_datasets.image.quickdraw import QuickdrawBitmap\n",
        "from tensorflow_datasets.image.resisc45 import Resisc45\n",
        "from tensorflow_datasets.image.rock_paper_scissors import RockPaperScissors\n",
        "from tensorflow_datasets.image.scene_parse_150 import SceneParse150\n",
        "from tensorflow_datasets.image.shapes3d import Shapes3d\n",
        "from tensorflow_datasets.image.smallnorb import Smallnorb\n",
        "from tensorflow_datasets.image.so2sat import So2sat\n",
        "from tensorflow_datasets.image.stanford_dogs import StanfordDogs\n",
        "from tensorflow_datasets.image.stanford_online_products import StanfordOnlineProducts\n",
        "from tensorflow_datasets.image.sun import Sun397\n",
        "from tensorflow_datasets.image.svhn import SvhnCropped\n",
        "from tensorflow_datasets.image.uc_merced import UcMerced\n",
        "from tensorflow_datasets.image.visual_domain_decathlon import VisualDomainDecathlon\n",
        "\n",
        "# EXERCISE: Import your dataset module here\n",
        "\n",
        "# YOUR CODE HERE"
      ],
      "execution_count": null,
      "outputs": []
    },
    {
      "cell_type": "markdown",
      "metadata": {
        "id": "QYmgS2SrYXtP"
      },
      "source": [
        "## URL Checksums\n",
        "\n",
        "If you're contributing the dataset to `tensorflow/datasets`, add a checksums file for the dataset. On first download, the DownloadManager will automatically add the sizes and checksums for all downloaded URLs to that file. This ensures that on subsequent data generation, the downloaded files are as expected."
      ]
    },
    {
      "cell_type": "code",
      "metadata": {
        "id": "cvrp-iHuYG_e"
      },
      "source": [
        "!touch tensorflow_datasets/url_checksums/imdb_faces.txt"
      ],
      "execution_count": null,
      "outputs": []
    },
    {
      "cell_type": "markdown",
      "metadata": {
        "id": "JwnUAn49U-U8"
      },
      "source": [
        "## Build the Dataset"
      ]
    },
    {
      "cell_type": "code",
      "metadata": {
        "id": "Y8uKiqWrU_C0"
      },
      "source": [
        "# EXERCISE: Fill in the name of your dataset.\n",
        "# The name must be a string.\n",
        "DATASET_NAME = # YOUR CODE HERE"
      ],
      "execution_count": null,
      "outputs": []
    },
    {
      "cell_type": "markdown",
      "metadata": {
        "id": "S7evoTtpon7I"
      },
      "source": [
        "We then run the `download_and_prepare` script locally to build it, using the following command:\n",
        "\n",
        "```\n",
        "%%bash -s $DATASET_NAME\n",
        "python -m tensorflow_datasets.scripts.download_and_prepare \\\n",
        "  --register_checksums \\\n",
        "  --datasets=$1\n",
        "```\n",
        "\n",
        "**NOTE:** It may take more than 30 minutes to download the dataset and then write all the preprocessed files as TFRecords. Due to the enormous size of the data involved, we are unable to run the above script in the Coursera environment. "
      ]
    },
    {
      "cell_type": "markdown",
      "metadata": {
        "id": "7hNPD2rraN5o"
      },
      "source": [
        "## Load the Dataset\n",
        "\n",
        "Once the dataset is built you can load it in the usual way, by using `tfds.load`, as shown below:\n",
        "\n",
        "```python\n",
        "import tensorflow_datasets as tfds\n",
        "dataset, info = tfds.load('imdb_faces', with_info=True)\n",
        "```\n",
        "\n",
        "**Note:** Since we couldn't build the `imdb_faces` dataset due to its size, we are unable to run the above code in the Coursera environment."
      ]
    },
    {
      "cell_type": "markdown",
      "metadata": {
        "id": "kGtP5Q6E-PGY"
      },
      "source": [
        "## Explore the Dataset\n",
        "\n",
        "Once the dataset is loaded, you can explore it by using the following loop:\n",
        "\n",
        "```python\n",
        "for feature in tfds.as_numpy(dataset['train']):\n",
        "  for key, value in feature.items():\n",
        "    if key == 'image':\n",
        "      value = value.shape\n",
        "    print(key, value)\n",
        "  break\n",
        "```\n",
        "\n",
        "**Note:** Since we couldn't build the `imdb_faces` dataset due to its size, we are unable to run the above code in the Coursera environment.\n",
        "\n",
        "The expected output from the code block shown above should be:\n",
        "\n",
        "```python\n",
        ">>>\n",
        "celeb_id 12387\n",
        "dob 722957\n",
        "face_location [1.         0.56327355 1.         1.        ]\n",
        "face_score 4.0612864\n",
        "gender 0\n",
        "image (96, 97, 3)\n",
        "photo_taken 2007\n",
        "second_face_score 3.6680346\n",
        "```"
      ]
    },
    {
      "cell_type": "markdown",
      "metadata": {
        "id": "BhUO2vXDZw8q"
      },
      "source": [
        "# Next steps for publishing\n",
        "\n",
        "**Double-check the citation**  \n",
        "\n",
        "It's important that DatasetInfo.citation includes a good citation for the dataset. It's hard and important work contributing a dataset to the community and we want to make it easy for dataset users to cite the work.\n",
        "\n",
        "If the dataset's website has a specifically requested citation, use that (in BibTex format).\n",
        "\n",
        "If the paper is on arXiv, find it there and click the bibtex link on the right-hand side.\n",
        "\n",
        "If the paper is not on arXiv, find the paper on Google Scholar and click the double-quotation mark underneath the title and on the popup, click BibTeX.\n",
        "\n",
        "If there is no associated paper (for example, there's just a website), you can use the BibTeX Online Editor to create a custom BibTeX entry (the drop-down menu has an Online entry type).\n",
        "  \n",
        "\n",
        "**Add a test**   \n",
        "\n",
        "Most datasets in TFDS should have a unit test and your reviewer may ask you to add one if you haven't already. See the testing section below.   \n",
        "**Check your code style**  \n",
        "\n",
        "Follow the PEP 8 Python style guide, except TensorFlow uses 2 spaces instead of 4. Please conform to the Google Python Style Guide,\n",
        "\n",
        "Most importantly, use tensorflow_datasets/oss_scripts/lint.sh to ensure your code is properly formatted. For example, to lint the image directory\n",
        "See TensorFlow code style guide for more information.\n",
        "\n",
        "**Add release notes**\n",
        "Add the dataset to the release notes. The release note will be published for the next release.\n",
        "\n",
        "**Send for review!**\n",
        "Send the pull request for review.\n",
        "\n",
        "For more information, visit https://www.tensorflow.org/datasets/add_dataset"
      ]
    }
  ]
}