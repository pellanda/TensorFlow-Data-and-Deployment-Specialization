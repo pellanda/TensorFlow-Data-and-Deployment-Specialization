{
 "cells": [
  {
   "cell_type": "markdown",
   "metadata": {
    "colab_type": "text",
    "id": "view-in-github"
   },
   "source": [
    "# Rock, Paper, Scissors\n",
    "\n",
    "In this week’s exercise, you will use [TFDS module](https://www.tensorflow.org/datasets/api_docs/python/tfds) for performing extract, transform and load (ETL) tasks on the [Rock-Paper-Scissors dataset](https://www.tensorflow.org/datasets/catalog/rock_paper_scissors). \n",
    "\n",
    "Upon completion of the exercise, you will have\n",
    "\n",
    "- Loaded the dataset\n",
    "- Transformed and preprocessed it \n",
    "- Defined a simple CNN model for image classification which can be trained easily\n",
    "\n"
   ]
  },
  {
   "cell_type": "markdown",
   "metadata": {
    "colab": {},
    "colab_type": "code",
    "id": "zX4Kg8DUTKWO"
   },
   "source": [
    "### Step 0 - Setup\n",
    "\n",
    "**Note** : The assignment uses TF version 2 so if you run this notebook on TF 1.x, some things might not work."
   ]
  },
  {
   "cell_type": "code",
   "execution_count": 1,
   "metadata": {},
   "outputs": [],
   "source": [
    "from os import getcwd\n",
    "\n",
    "import tensorflow as tf\n",
    "import tensorflow_datasets as tfds"
   ]
  },
  {
   "cell_type": "markdown",
   "metadata": {},
   "source": [
    "### Step 1 - One-Hot Encoding \n",
    "\n",
    "Remember to one hot encode the labels as you have 3 classes - Rock, Paper and Scissors.\n",
    "You can use Tensorflow's one_hot function ([`tf.one_hot`](https://www.tensorflow.org/api_docs/python/tf/one_hot)) to convert categorical variables to one-hot vectors.\n",
    "\n",
    "Useful parameters - \n",
    "1. `indices` - A tensor containing all indices\n",
    "2. `depth` - A scalar defining the depth of the one hot dimension.\n"
   ]
  },
  {
   "cell_type": "code",
   "execution_count": 3,
   "metadata": {},
   "outputs": [
    {
     "name": "stdout",
     "output_type": "stream",
     "text": [
      "tf.Tensor(\n",
      "[[0. 1. 0.]\n",
      " [0. 0. 1.]\n",
      " [0. 0. 0.]\n",
      " [0. 1. 0.]], shape=(4, 3), dtype=float32)\n"
     ]
    }
   ],
   "source": [
    "# EXERCISE: encoding the labels using your own function for one-hot encoding\n",
    "\n",
    "def my_one_hot(feature, label):\n",
    "    # Encode the labels to one-hot using tf.one_hot with depth equal to total \n",
    "    # number of classes here which are rock, paper and scissors\n",
    "    \n",
    "    one_hot = tf.one_hot(label,3)\n",
    "    return feature, one_hot\n",
    "\n",
    "# TESTING THE FUNCTION \n",
    "_,one_hot = my_one_hot([\"a\",\"b\",\"c\",\"a\"],[1,2,3,1])\n",
    "print(one_hot)\n"
   ]
  },
  {
   "cell_type": "markdown",
   "metadata": {},
   "source": [
    "#### Expected Output\n",
    "```\n",
    "tf.Tensor(\n",
    "[[0. 1. 0.]\n",
    " [0. 0. 1.]\n",
    " [0. 0. 0.]\n",
    " [0. 1. 0.]], shape=(4, 3), dtype=float32)\n",
    " ```"
   ]
  },
  {
   "cell_type": "markdown",
   "metadata": {},
   "source": [
    "### Step 2 - Loading Dataset\n",
    "\n",
    "You will be using [`tfds.load()`](https://www.tensorflow.org/datasets/api_docs/python/tfds/load)] method to load the dataset. The dataset is already downloaded and unzipped for you in the data folder but if you are running on your local machine and do not have the dataset downloaded, it will first download and save the dataset to your tensorflow directory and then load it.\n",
    "\n",
    "Useful parameters -\n",
    "1. `split` - Which split of the data to load (e.g. 'train', 'test' ['train', 'test'], 'train[80%:]',...)\n",
    "\n",
    "2. `data_dir` - Directory to read/write data. Defaults to the value of the environment variable _TFDS_DATA_DIR_, if set, otherwise falls back to \"~/tensorflow_datasets\"\n",
    "\n",
    "3. `as_supervised`- If True, the returned tf.data.Dataset will have a 2-tuple structure (input, label) according to builder.info.supervised_keys. If False the default, the returned tf.data.Dataset will have a dictionary with all the features\n",
    "\n",
    "**Note** - The`rock_paper_scissors:3.*.*` dataset is already downloaded for you so if you specify the major version thisway while loading, it will try to find the dataset from the directory and load it. If none is present or the current dataset has been upgraded to a new major version, then it will try to download the new dataset to the directory."
   ]
  },
  {
   "cell_type": "code",
   "execution_count": 5,
   "metadata": {},
   "outputs": [
    {
     "name": "stdout",
     "output_type": "stream",
     "text": [
      "2520\n",
      "372\n"
     ]
    }
   ],
   "source": [
    "# EXERCISE: Loading the rock, paper and scissors train and test dataset using tfds.load. \n",
    "\n",
    "# Use data_dir=filepath as the dataset is already downloaded for you\n",
    "\n",
    "filePath = f\"{getcwd()}/data\"\n",
    "\n",
    "train_data = tfds.load('rock_paper_scissors:3.*.*', data_dir=filePath, split='train', as_supervised=True)\n",
    "val_data = tfds.load('rock_paper_scissors:3.*.*', data_dir=filePath, split='test', as_supervised=True)\n",
    "\n",
    "# Testing train_data and val_data if loaded correctly\n",
    "    \n",
    "train_data_len = len(list(train_data))\n",
    "val_data_len = len(list(val_data))\n",
    "\n",
    "print(train_data_len)\n",
    "print(val_data_len)"
   ]
  },
  {
   "cell_type": "markdown",
   "metadata": {},
   "source": [
    "#### Expected Output\n",
    "```\n",
    "2520\n",
    "372\n",
    " ```"
   ]
  },
  {
   "cell_type": "markdown",
   "metadata": {},
   "source": [
    "### Step 3 - Mapping one hot encode function to dataset\n",
    "\n",
    "You will apply the `my_one_hot()` encoding function to the train and validation data using [`map`](https://www.tensorflow.org/api_docs/python/tf/data/Dataset#map) function. It will apply the custom function to each element of the  dataset and returns a new dataset containing the transformed elements in the same order as they appeared in the input."
   ]
  },
  {
   "cell_type": "code",
   "execution_count": 6,
   "metadata": {},
   "outputs": [
    {
     "name": "stdout",
     "output_type": "stream",
     "text": [
      "<class 'tensorflow.python.data.ops.dataset_ops.MapDataset'>\n"
     ]
    }
   ],
   "source": [
    "# EXERCISE: one-hot encode the train and validation labels using the function you defined earlier\n",
    "\n",
    "# HINT - use map function https://www.tensorflow.org/api_docs/python/tf/data/Dataset#map\n",
    "\n",
    "train_data = train_data.map(my_one_hot)\n",
    "val_data = val_data.map(my_one_hot)\n",
    "\n",
    "print(type(train_data))"
   ]
  },
  {
   "cell_type": "markdown",
   "metadata": {},
   "source": [
    "#### Expected Output\n",
    "```\n",
    "<class 'tensorflow.python.data.ops.dataset_ops.MapDataset'>\n",
    " ```"
   ]
  },
  {
   "cell_type": "markdown",
   "metadata": {},
   "source": [
    "### Step 4 - Exploring dataset metadata\n",
    "\n",
    "Do remember that [`tfds.load()`](https://www.tensorflow.org/datasets/api_docs/python/tfds/load) has a parameter called `with_info` which if True will return the tuple (tf.data.Dataset, tfds.core.DatasetInfo) containing the info associated with the builder."
   ]
  },
  {
   "cell_type": "code",
   "execution_count": 8,
   "metadata": {},
   "outputs": [
    {
     "name": "stdout",
     "output_type": "stream",
     "text": [
      "(300, 300, 3)\n"
     ]
    }
   ],
   "source": [
    "# EXERCISE: Check the information about the dataset to see the dataset image shape\n",
    "\n",
    "# HINT: Use with_info=True and data_dir\n",
    "_,info = tfds.load('rock_paper_scissors:3.*.*', data_dir=filePath, with_info=True)\n",
    "\n",
    "# DO NOT EDIT THIS\n",
    "print(info.features['image'].shape)"
   ]
  },
  {
   "cell_type": "markdown",
   "metadata": {},
   "source": [
    "## Expected Output\n",
    "```\n",
    "(300, 300, 3)\n",
    "\n",
    " ```"
   ]
  },
  {
   "cell_type": "markdown",
   "metadata": {},
   "source": [
    "### Step 5 - Training your simple CNN classifier\n",
    "\n",
    "Now you will define a simple 1-layer CNN model which will learn to classify the images into rock, paper and scissor!\n"
   ]
  },
  {
   "cell_type": "code",
   "execution_count": 9,
   "metadata": {
    "colab": {},
    "colab_type": "code",
    "id": "iSq4t32ZHHpt"
   },
   "outputs": [
    {
     "name": "stdout",
     "output_type": "stream",
     "text": [
      "Model: \"sequential\"\n",
      "_________________________________________________________________\n",
      "Layer (type)                 Output Shape              Param #   \n",
      "=================================================================\n",
      "conv2d (Conv2D)              (None, 298, 298, 16)      448       \n",
      "_________________________________________________________________\n",
      "max_pooling2d (MaxPooling2D) (None, 149, 149, 16)      0         \n",
      "_________________________________________________________________\n",
      "flatten (Flatten)            (None, 355216)            0         \n",
      "_________________________________________________________________\n",
      "dense (Dense)                (None, 3)                 1065651   \n",
      "=================================================================\n",
      "Total params: 1,066,099\n",
      "Trainable params: 1,066,099\n",
      "Non-trainable params: 0\n",
      "_________________________________________________________________\n"
     ]
    }
   ],
   "source": [
    "# EXERCISE: Train a simple CNN model on the dataset\n",
    "\n",
    "train_batches = train_data.shuffle(100).batch(10)\n",
    "validation_batches = val_data.batch(32)\n",
    "\n",
    "model = tf.keras.models.Sequential([\n",
    "    tf.keras.layers.Conv2D(16, (3, 3), activation='relu', input_shape=(300,300,3)),                       \n",
    "    tf.keras.layers.MaxPooling2D(2, 2),\n",
    "    tf.keras.layers.Flatten(),                                         \n",
    "    tf.keras.layers.Dense(3, activation='softmax')  # Remember there are 3 classes to classify and to use proper activation\n",
    "])\n",
    "\n",
    "model.summary()\n"
   ]
  },
  {
   "cell_type": "markdown",
   "metadata": {},
   "source": [
    "# Submission Instructions"
   ]
  },
  {
   "cell_type": "code",
   "execution_count": null,
   "metadata": {},
   "outputs": [],
   "source": [
    "# Now click the 'Submit Assignment' button above."
   ]
  },
  {
   "cell_type": "markdown",
   "metadata": {},
   "source": [
    "### [Optional] Step 6 - Evaluation\n",
    "\n",
    "***Remember to submit your assignment before you uncomment and run the next cell.***"
   ]
  },
  {
   "cell_type": "code",
   "execution_count": 11,
   "metadata": {},
   "outputs": [
    {
     "name": "stdout",
     "output_type": "stream",
     "text": [
      "Epoch 1/3\n",
      "252/252 [==============================] - 9s 37ms/step - loss: 848.3680 - accuracy: 0.7901 - val_loss: 22.9381 - val_accuracy: 0.6875\n",
      "Epoch 2/3\n",
      "252/252 [==============================] - 6s 25ms/step - loss: 1.2681 - accuracy: 0.9619 - val_loss: 20.4022 - val_accuracy: 0.7188\n",
      "Epoch 3/3\n",
      "252/252 [==============================] - 6s 25ms/step - loss: 0.3071 - accuracy: 0.9885 - val_loss: 22.6004 - val_accuracy: 0.6250\n",
      "Final Training Accuracy:- 0.9884921\n",
      "Final Validation Accuracy:- 0.625\n"
     ]
    }
   ],
   "source": [
    "# OPTIONAL EXERCISE: Compile and fit your model - use categorical loss and choose optimizer as Adam\n",
    "\n",
    "EPOCH = 3\n",
    "\n",
    "# You should get decent enough training accuracy in 3-4 epochs itself as this one layer model will heavily overfit\n",
    "\n",
    "model.compile(optimizer='Adam', loss='categorical_crossentropy', metrics=['accuracy'])\n",
    "\n",
    "history = model.fit(train_batches, epochs= EPOCH , validation_data=validation_batches, validation_steps=1)\n",
    "    \n",
    "print(\"Final Training Accuracy:-\",history.history['accuracy'][-1])\n",
    "print(\"Final Validation Accuracy:-\",history.history['val_accuracy'][-1])"
   ]
  },
  {
   "cell_type": "markdown",
   "metadata": {},
   "source": [
    "# When you're done or would like to take a break, please run the two cells below to save your work and close the Notebook. This frees up resources for your fellow learners."
   ]
  },
  {
   "cell_type": "code",
   "execution_count": null,
   "metadata": {},
   "outputs": [],
   "source": [
    "%%javascript\n",
    "<!-- Save the notebook -->\n",
    "IPython.notebook.save_checkpoint();"
   ]
  },
  {
   "cell_type": "code",
   "execution_count": null,
   "metadata": {},
   "outputs": [],
   "source": [
    "%%javascript\n",
    "<!-- Shutdown and close the notebook -->\n",
    "window.onbeforeunload = null\n",
    "window.close();\n",
    "IPython.notebook.session.delete();"
   ]
  }
 ],
 "metadata": {
  "coursera": {
   "schema_names": [
    "tensorflow-datasets-w1"
   ]
  },
  "kernelspec": {
   "display_name": "Python 3",
   "language": "python",
   "name": "python3"
  },
  "language_info": {
   "codemirror_mode": {
    "name": "ipython",
    "version": 3
   },
   "file_extension": ".py",
   "mimetype": "text/x-python",
   "name": "python",
   "nbconvert_exporter": "python",
   "pygments_lexer": "ipython3",
   "version": "3.6.9"
  }
 },
 "nbformat": 4,
 "nbformat_minor": 4
}
